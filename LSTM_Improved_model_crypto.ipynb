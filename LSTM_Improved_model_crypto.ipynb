{
 "cells": [
  {
   "cell_type": "markdown",
   "id": "84eb5373",
   "metadata": {
    "colab_type": "text",
    "id": "view-in-github"
   },
   "source": [
    "<a href=\"https://colab.research.google.com/github/034adarsh/Stock-Price-Prediction-Using-LSTM/blob/main/LSTM_Improved_model(diff_dataset).ipynb\" target=\"_parent\"><img src=\"https://colab.research.google.com/assets/colab-badge.svg\" alt=\"Open In Colab\"/></a>"
   ]
  },
  {
   "cell_type": "markdown",
   "id": "yrU0iWdalVGx",
   "metadata": {
    "id": "yrU0iWdalVGx"
   },
   "source": [
    "# Import all the required libraries\n",
    "\n",
    "---\n",
    "\n"
   ]
  },
  {
   "cell_type": "code",
   "execution_count": 3,
   "id": "4189cf86",
   "metadata": {
    "execution": {
     "iopub.execute_input": "2025-09-01T08:40:18.532482Z",
     "iopub.status.busy": "2025-09-01T08:40:18.531642Z",
     "iopub.status.idle": "2025-09-01T08:40:18.542601Z",
     "shell.execute_reply": "2025-09-01T08:40:18.540373Z",
     "shell.execute_reply.started": "2025-09-01T08:40:18.532438Z"
    },
    "id": "4189cf86"
   },
   "outputs": [],
   "source": [
    "import pandas as pd\n",
    "import datetime as dt\n",
    "from datetime import date\n",
    "import matplotlib.pyplot as plt\n",
    "#import yfinance as yf\n",
    "import numpy as np\n",
    "import tensorflow as tf"
   ]
  },
  {
   "cell_type": "markdown",
   "id": "Nij98iZElfyQ",
   "metadata": {
    "id": "Nij98iZElfyQ"
   },
   "source": [
    "# Dataset: change from Yahoo stock data to BTC 1-min data\n",
    "\n",
    "---\n",
    "\n"
   ]
  },
  {
   "cell_type": "code",
   "execution_count": 41,
   "id": "d365d020-e85a-4d6c-86fe-1831185c0c6b",
   "metadata": {
    "execution": {
     "iopub.execute_input": "2025-09-01T08:52:02.301693Z",
     "iopub.status.busy": "2025-09-01T08:52:02.300578Z",
     "iopub.status.idle": "2025-09-01T08:52:04.009978Z",
     "shell.execute_reply": "2025-09-01T08:52:04.009120Z",
     "shell.execute_reply.started": "2025-09-01T08:52:02.301624Z"
    }
   },
   "outputs": [],
   "source": [
    "df = pd.read_csv(\"../data/btcusd_1-min_data.csv\")"
   ]
  },
  {
   "cell_type": "code",
   "execution_count": 57,
   "id": "b9c9c89f-292b-498f-9db4-d9586a7eb4fd",
   "metadata": {
    "execution": {
     "iopub.execute_input": "2025-09-01T08:53:13.681715Z",
     "iopub.status.busy": "2025-09-01T08:53:13.679589Z",
     "iopub.status.idle": "2025-09-01T08:53:13.700897Z",
     "shell.execute_reply": "2025-09-01T08:53:13.700069Z",
     "shell.execute_reply.started": "2025-09-01T08:53:13.681651Z"
    }
   },
   "outputs": [
    {
     "data": {
      "text/html": [
       "<div>\n",
       "<style scoped>\n",
       "    .dataframe tbody tr th:only-of-type {\n",
       "        vertical-align: middle;\n",
       "    }\n",
       "\n",
       "    .dataframe tbody tr th {\n",
       "        vertical-align: top;\n",
       "    }\n",
       "\n",
       "    .dataframe thead th {\n",
       "        text-align: right;\n",
       "    }\n",
       "</style>\n",
       "<table border=\"1\" class=\"dataframe\">\n",
       "  <thead>\n",
       "    <tr style=\"text-align: right;\">\n",
       "      <th></th>\n",
       "      <th>Timestamp</th>\n",
       "      <th>Open</th>\n",
       "      <th>High</th>\n",
       "      <th>Low</th>\n",
       "      <th>Close</th>\n",
       "      <th>Volume</th>\n",
       "    </tr>\n",
       "  </thead>\n",
       "  <tbody>\n",
       "    <tr>\n",
       "      <th>6707276</th>\n",
       "      <td>2024-11-01 23:57:00</td>\n",
       "      <td>69511.0</td>\n",
       "      <td>69511.0</td>\n",
       "      <td>69491.0</td>\n",
       "      <td>69491.0</td>\n",
       "      <td>0.101946</td>\n",
       "    </tr>\n",
       "    <tr>\n",
       "      <th>6707277</th>\n",
       "      <td>2024-11-01 23:58:00</td>\n",
       "      <td>69490.0</td>\n",
       "      <td>69490.0</td>\n",
       "      <td>69490.0</td>\n",
       "      <td>69490.0</td>\n",
       "      <td>0.006393</td>\n",
       "    </tr>\n",
       "    <tr>\n",
       "      <th>6707278</th>\n",
       "      <td>2024-11-01 23:59:00</td>\n",
       "      <td>69491.0</td>\n",
       "      <td>69491.0</td>\n",
       "      <td>69490.0</td>\n",
       "      <td>69490.0</td>\n",
       "      <td>0.074621</td>\n",
       "    </tr>\n",
       "    <tr>\n",
       "      <th>6707279</th>\n",
       "      <td>2024-11-02 00:00:00</td>\n",
       "      <td>69468.0</td>\n",
       "      <td>69474.0</td>\n",
       "      <td>69468.0</td>\n",
       "      <td>69474.0</td>\n",
       "      <td>0.007074</td>\n",
       "    </tr>\n",
       "    <tr>\n",
       "      <th>6707280</th>\n",
       "      <td>NaT</td>\n",
       "      <td>57854.0</td>\n",
       "      <td>57864.0</td>\n",
       "      <td>57835.0</td>\n",
       "      <td>57835.0</td>\n",
       "      <td>1.353466</td>\n",
       "    </tr>\n",
       "  </tbody>\n",
       "</table>\n",
       "</div>"
      ],
      "text/plain": [
       "                  Timestamp     Open     High      Low    Close    Volume\n",
       "6707276 2024-11-01 23:57:00  69511.0  69511.0  69491.0  69491.0  0.101946\n",
       "6707277 2024-11-01 23:58:00  69490.0  69490.0  69490.0  69490.0  0.006393\n",
       "6707278 2024-11-01 23:59:00  69491.0  69491.0  69490.0  69490.0  0.074621\n",
       "6707279 2024-11-02 00:00:00  69468.0  69474.0  69468.0  69474.0  0.007074\n",
       "6707280                 NaT  57854.0  57864.0  57835.0  57835.0  1.353466"
      ]
     },
     "execution_count": 57,
     "metadata": {},
     "output_type": "execute_result"
    }
   ],
   "source": [
    "df.tail()\n"
   ]
  },
  {
   "cell_type": "code",
   "execution_count": 45,
   "id": "4dbcf2b3-9f84-4c1a-bf8e-09b3ecb28fef",
   "metadata": {
    "execution": {
     "iopub.execute_input": "2025-09-01T08:52:08.743428Z",
     "iopub.status.busy": "2025-09-01T08:52:08.742335Z",
     "iopub.status.idle": "2025-09-01T08:52:08.755138Z",
     "shell.execute_reply": "2025-09-01T08:52:08.754042Z",
     "shell.execute_reply.started": "2025-09-01T08:52:08.743357Z"
    }
   },
   "outputs": [
    {
     "data": {
      "text/plain": [
       "6707281"
      ]
     },
     "execution_count": 45,
     "metadata": {},
     "output_type": "execute_result"
    }
   ],
   "source": [
    "len(df)"
   ]
  },
  {
   "cell_type": "code",
   "execution_count": 47,
   "id": "a795e8ab-2ad9-449c-b0a4-072299d72e6c",
   "metadata": {
    "execution": {
     "iopub.execute_input": "2025-09-01T08:52:14.429021Z",
     "iopub.status.busy": "2025-09-01T08:52:14.427938Z",
     "iopub.status.idle": "2025-09-01T08:52:14.440917Z",
     "shell.execute_reply": "2025-09-01T08:52:14.439539Z",
     "shell.execute_reply.started": "2025-09-01T08:52:14.428952Z"
    }
   },
   "outputs": [
    {
     "data": {
      "text/plain": [
       "1325412060.0"
      ]
     },
     "execution_count": 47,
     "metadata": {},
     "output_type": "execute_result"
    }
   ],
   "source": [
    "df['Timestamp'][0]"
   ]
  },
  {
   "cell_type": "code",
   "execution_count": 49,
   "id": "f43b9cb9-46a4-4708-950f-107c7da0b263",
   "metadata": {
    "execution": {
     "iopub.execute_input": "2025-09-01T08:52:15.965549Z",
     "iopub.status.busy": "2025-09-01T08:52:15.963950Z",
     "iopub.status.idle": "2025-09-01T08:52:17.312944Z",
     "shell.execute_reply": "2025-09-01T08:52:17.312501Z",
     "shell.execute_reply.started": "2025-09-01T08:52:15.965473Z"
    }
   },
   "outputs": [],
   "source": [
    "df['Timestamp'] = pd.to_datetime(df['Timestamp'], unit='s', errors='coerce')\n"
   ]
  },
  {
   "cell_type": "code",
   "execution_count": 51,
   "id": "78a4c072-bd80-44c2-b70d-39fafb42cad9",
   "metadata": {
    "execution": {
     "iopub.execute_input": "2025-09-01T08:52:33.162195Z",
     "iopub.status.busy": "2025-09-01T08:52:33.161402Z",
     "iopub.status.idle": "2025-09-01T08:52:33.178481Z",
     "shell.execute_reply": "2025-09-01T08:52:33.176637Z",
     "shell.execute_reply.started": "2025-09-01T08:52:33.162157Z"
    }
   },
   "outputs": [
    {
     "data": {
      "text/plain": [
       "Timestamp('2012-01-01 10:01:00')"
      ]
     },
     "execution_count": 51,
     "metadata": {},
     "output_type": "execute_result"
    }
   ],
   "source": [
    "df['Timestamp'][0]"
   ]
  },
  {
   "cell_type": "code",
   "execution_count": 53,
   "id": "613e0709-83a7-4edc-b5b3-bb39b5ba3b9a",
   "metadata": {
    "execution": {
     "iopub.execute_input": "2025-09-01T08:52:49.912847Z",
     "iopub.status.busy": "2025-09-01T08:52:49.911872Z",
     "iopub.status.idle": "2025-09-01T08:52:49.943666Z",
     "shell.execute_reply": "2025-09-01T08:52:49.943097Z",
     "shell.execute_reply.started": "2025-09-01T08:52:49.912777Z"
    }
   },
   "outputs": [
    {
     "name": "stdout",
     "output_type": "stream",
     "text": [
      "Number of null timestamps: 1\n"
     ]
    }
   ],
   "source": [
    "null_count = df['Timestamp'].isna().sum()\n",
    "print(f\"Number of null timestamps: {null_count}\")\n"
   ]
  },
  {
   "cell_type": "code",
   "execution_count": null,
   "id": "15cae424-8c38-4189-a70a-8c44bc38ab8f",
   "metadata": {},
   "outputs": [],
   "source": [
    "data.head()"
   ]
  },
  {
   "cell_type": "code",
   "execution_count": 55,
   "id": "45df91ee-cddd-4a01-abb0-f24d5bb06f9d",
   "metadata": {
    "execution": {
     "iopub.execute_input": "2025-09-01T08:53:04.051602Z",
     "iopub.status.busy": "2025-09-01T08:53:04.050799Z",
     "iopub.status.idle": "2025-09-01T08:53:04.079320Z",
     "shell.execute_reply": "2025-09-01T08:53:04.078339Z",
     "shell.execute_reply.started": "2025-09-01T08:53:04.051561Z"
    }
   },
   "outputs": [
    {
     "name": "stdout",
     "output_type": "stream",
     "text": [
      "Rows with null Timestamp:\n",
      "        Timestamp     Open     High      Low    Close    Volume\n",
      "6707280       NaT  57854.0  57864.0  57835.0  57835.0  1.353466\n"
     ]
    }
   ],
   "source": [
    "if null_count > 0:\n",
    "    print(\"Rows with null Timestamp:\")\n",
    "    print(df[df['Timestamp'].isna()])"
   ]
  },
  {
   "cell_type": "code",
   "execution_count": 73,
   "id": "034d5c75-774e-4143-a9e6-e1b3d70725a3",
   "metadata": {
    "execution": {
     "iopub.execute_input": "2025-09-01T08:56:39.691312Z",
     "iopub.status.busy": "2025-09-01T08:56:39.690200Z",
     "iopub.status.idle": "2025-09-01T08:56:39.994515Z",
     "shell.execute_reply": "2025-09-01T08:56:39.994164Z",
     "shell.execute_reply.started": "2025-09-01T08:56:39.691243Z"
    }
   },
   "outputs": [],
   "source": [
    "# Remove rows with null timestamp\n",
    "df = df[df['Timestamp'].notna()]\n",
    "df = df.set_index('Timestamp')"
   ]
  },
  {
   "cell_type": "code",
   "execution_count": 75,
   "id": "768629b6-9d82-49ca-b25c-2052475fd727",
   "metadata": {
    "execution": {
     "iopub.execute_input": "2025-09-01T08:56:41.065995Z",
     "iopub.status.busy": "2025-09-01T08:56:41.064810Z",
     "iopub.status.idle": "2025-09-01T08:56:41.086130Z",
     "shell.execute_reply": "2025-09-01T08:56:41.084979Z",
     "shell.execute_reply.started": "2025-09-01T08:56:41.065918Z"
    }
   },
   "outputs": [
    {
     "data": {
      "text/html": [
       "<div>\n",
       "<style scoped>\n",
       "    .dataframe tbody tr th:only-of-type {\n",
       "        vertical-align: middle;\n",
       "    }\n",
       "\n",
       "    .dataframe tbody tr th {\n",
       "        vertical-align: top;\n",
       "    }\n",
       "\n",
       "    .dataframe thead th {\n",
       "        text-align: right;\n",
       "    }\n",
       "</style>\n",
       "<table border=\"1\" class=\"dataframe\">\n",
       "  <thead>\n",
       "    <tr style=\"text-align: right;\">\n",
       "      <th></th>\n",
       "      <th>Open</th>\n",
       "      <th>High</th>\n",
       "      <th>Low</th>\n",
       "      <th>Close</th>\n",
       "      <th>Volume</th>\n",
       "    </tr>\n",
       "    <tr>\n",
       "      <th>Timestamp</th>\n",
       "      <th></th>\n",
       "      <th></th>\n",
       "      <th></th>\n",
       "      <th></th>\n",
       "      <th></th>\n",
       "    </tr>\n",
       "  </thead>\n",
       "  <tbody>\n",
       "    <tr>\n",
       "      <th>2012-01-01 10:01:00</th>\n",
       "      <td>4.58</td>\n",
       "      <td>4.58</td>\n",
       "      <td>4.58</td>\n",
       "      <td>4.58</td>\n",
       "      <td>0.0</td>\n",
       "    </tr>\n",
       "    <tr>\n",
       "      <th>2012-01-01 10:02:00</th>\n",
       "      <td>4.58</td>\n",
       "      <td>4.58</td>\n",
       "      <td>4.58</td>\n",
       "      <td>4.58</td>\n",
       "      <td>0.0</td>\n",
       "    </tr>\n",
       "    <tr>\n",
       "      <th>2012-01-01 10:03:00</th>\n",
       "      <td>4.58</td>\n",
       "      <td>4.58</td>\n",
       "      <td>4.58</td>\n",
       "      <td>4.58</td>\n",
       "      <td>0.0</td>\n",
       "    </tr>\n",
       "    <tr>\n",
       "      <th>2012-01-01 10:04:00</th>\n",
       "      <td>4.58</td>\n",
       "      <td>4.58</td>\n",
       "      <td>4.58</td>\n",
       "      <td>4.58</td>\n",
       "      <td>0.0</td>\n",
       "    </tr>\n",
       "    <tr>\n",
       "      <th>2012-01-01 10:05:00</th>\n",
       "      <td>4.58</td>\n",
       "      <td>4.58</td>\n",
       "      <td>4.58</td>\n",
       "      <td>4.58</td>\n",
       "      <td>0.0</td>\n",
       "    </tr>\n",
       "  </tbody>\n",
       "</table>\n",
       "</div>"
      ],
      "text/plain": [
       "                     Open  High   Low  Close  Volume\n",
       "Timestamp                                           \n",
       "2012-01-01 10:01:00  4.58  4.58  4.58   4.58     0.0\n",
       "2012-01-01 10:02:00  4.58  4.58  4.58   4.58     0.0\n",
       "2012-01-01 10:03:00  4.58  4.58  4.58   4.58     0.0\n",
       "2012-01-01 10:04:00  4.58  4.58  4.58   4.58     0.0\n",
       "2012-01-01 10:05:00  4.58  4.58  4.58   4.58     0.0"
      ]
     },
     "execution_count": 75,
     "metadata": {},
     "output_type": "execute_result"
    }
   ],
   "source": [
    "df.head()"
   ]
  },
  {
   "cell_type": "code",
   "execution_count": 77,
   "id": "d20a4c49",
   "metadata": {
    "execution": {
     "iopub.execute_input": "2025-09-01T08:56:53.268238Z",
     "iopub.status.busy": "2025-09-01T08:56:53.267081Z",
     "iopub.status.idle": "2025-09-01T08:56:53.440578Z",
     "shell.execute_reply": "2025-09-01T08:56:53.440238Z",
     "shell.execute_reply.started": "2025-09-01T08:56:53.268189Z"
    },
    "id": "d20a4c49"
   },
   "outputs": [],
   "source": [
    "# 3. Sort index just in case\n",
    "df = df.sort_index()"
   ]
  },
  {
   "cell_type": "code",
   "execution_count": 81,
   "id": "c5f71e4e",
   "metadata": {
    "colab": {
     "base_uri": "https://localhost:8080/",
     "height": 224
    },
    "execution": {
     "iopub.execute_input": "2025-09-01T08:58:15.419730Z",
     "iopub.status.busy": "2025-09-01T08:58:15.418365Z",
     "iopub.status.idle": "2025-09-01T08:58:16.142937Z",
     "shell.execute_reply": "2025-09-01T08:58:16.142631Z",
     "shell.execute_reply.started": "2025-09-01T08:58:15.419656Z"
    },
    "id": "c5f71e4e",
    "outputId": "047bd0e5-7e20-4d32-8d6f-0a0c1c5a2983"
   },
   "outputs": [
    {
     "name": "stdout",
     "output_type": "stream",
     "text": [
      "Number of duplicate timestamps: 0\n",
      "Timestamps strictly increasing: True\n",
      "Number of missing 1-min timestamps: 44280\n",
      "Example missing timestamps: DatetimeIndex(['2012-11-04 06:00:00', '2012-11-04 06:01:00',\n",
      "               '2012-11-04 06:02:00', '2012-11-04 06:03:00',\n",
      "               '2012-11-04 06:04:00', '2012-11-04 06:05:00',\n",
      "               '2012-11-04 06:06:00', '2012-11-04 06:07:00',\n",
      "               '2012-11-04 06:08:00', '2012-11-04 06:09:00'],\n",
      "              dtype='datetime64[ns]', freq=None)\n"
     ]
    }
   ],
   "source": [
    "# 4. Data integrity checks\n",
    "\n",
    "# (a) Check for duplicates\n",
    "dup_count = df.index.duplicated().sum()\n",
    "print(f\"Number of duplicate timestamps: {dup_count}\")\n",
    "\n",
    "if dup_count > 0:\n",
    "    print(\"Duplicate timestamp rows:\")\n",
    "    print(df[df.index.duplicated(keep=False)])\n",
    "\n",
    "# (b) Check if index is strictly increasing\n",
    "is_monotonic = df.index.is_monotonic_increasing\n",
    "print(f\"Timestamps strictly increasing: {is_monotonic}\")\n",
    "\n",
    "# (c) Optional: check for gaps in the 1-min frequency\n",
    "expected_range = pd.date_range(start=df.index.min(), end=df.index.max(), freq=\"min\")\n",
    "missing_timestamps = expected_range.difference(df.index)\n",
    "\n",
    "print(f\"Number of missing 1-min timestamps: {len(missing_timestamps)}\")\n",
    "if len(missing_timestamps) > 0:\n",
    "    print(\"Example missing timestamps:\", missing_timestamps[:10])  # show first 10"
   ]
  },
  {
   "cell_type": "code",
   "execution_count": 83,
   "id": "c7ec39e4",
   "metadata": {
    "colab": {
     "base_uri": "https://localhost:8080/",
     "height": 206
    },
    "execution": {
     "iopub.execute_input": "2025-09-01T08:59:41.456231Z",
     "iopub.status.busy": "2025-09-01T08:59:41.454426Z",
     "iopub.status.idle": "2025-09-01T08:59:42.124826Z",
     "shell.execute_reply": "2025-09-01T08:59:42.124523Z",
     "shell.execute_reply.started": "2025-09-01T08:59:41.456143Z"
    },
    "id": "c7ec39e4",
    "outputId": "96670f67-4c6a-40fc-b065-a7820a2f9f46"
   },
   "outputs": [
    {
     "data": {
      "text/html": [
       "<div>\n",
       "<style scoped>\n",
       "    .dataframe tbody tr th:only-of-type {\n",
       "        vertical-align: middle;\n",
       "    }\n",
       "\n",
       "    .dataframe tbody tr th {\n",
       "        vertical-align: top;\n",
       "    }\n",
       "\n",
       "    .dataframe thead th {\n",
       "        text-align: right;\n",
       "    }\n",
       "</style>\n",
       "<table border=\"1\" class=\"dataframe\">\n",
       "  <thead>\n",
       "    <tr style=\"text-align: right;\">\n",
       "      <th></th>\n",
       "      <th>Open</th>\n",
       "      <th>High</th>\n",
       "      <th>Low</th>\n",
       "      <th>Close</th>\n",
       "      <th>Volume</th>\n",
       "    </tr>\n",
       "    <tr>\n",
       "      <th>Timestamp</th>\n",
       "      <th></th>\n",
       "      <th></th>\n",
       "      <th></th>\n",
       "      <th></th>\n",
       "      <th></th>\n",
       "    </tr>\n",
       "  </thead>\n",
       "  <tbody>\n",
       "    <tr>\n",
       "      <th>2012-01-01 10:01:00</th>\n",
       "      <td>4.58</td>\n",
       "      <td>4.58</td>\n",
       "      <td>4.58</td>\n",
       "      <td>4.58</td>\n",
       "      <td>0.0</td>\n",
       "    </tr>\n",
       "    <tr>\n",
       "      <th>2012-01-01 10:02:00</th>\n",
       "      <td>4.58</td>\n",
       "      <td>4.58</td>\n",
       "      <td>4.58</td>\n",
       "      <td>4.58</td>\n",
       "      <td>0.0</td>\n",
       "    </tr>\n",
       "    <tr>\n",
       "      <th>2012-01-01 10:03:00</th>\n",
       "      <td>4.58</td>\n",
       "      <td>4.58</td>\n",
       "      <td>4.58</td>\n",
       "      <td>4.58</td>\n",
       "      <td>0.0</td>\n",
       "    </tr>\n",
       "    <tr>\n",
       "      <th>2012-01-01 10:04:00</th>\n",
       "      <td>4.58</td>\n",
       "      <td>4.58</td>\n",
       "      <td>4.58</td>\n",
       "      <td>4.58</td>\n",
       "      <td>0.0</td>\n",
       "    </tr>\n",
       "    <tr>\n",
       "      <th>2012-01-01 10:05:00</th>\n",
       "      <td>4.58</td>\n",
       "      <td>4.58</td>\n",
       "      <td>4.58</td>\n",
       "      <td>4.58</td>\n",
       "      <td>0.0</td>\n",
       "    </tr>\n",
       "  </tbody>\n",
       "</table>\n",
       "</div>"
      ],
      "text/plain": [
       "                     Open  High   Low  Close  Volume\n",
       "Timestamp                                           \n",
       "2012-01-01 10:01:00  4.58  4.58  4.58   4.58     0.0\n",
       "2012-01-01 10:02:00  4.58  4.58  4.58   4.58     0.0\n",
       "2012-01-01 10:03:00  4.58  4.58  4.58   4.58     0.0\n",
       "2012-01-01 10:04:00  4.58  4.58  4.58   4.58     0.0\n",
       "2012-01-01 10:05:00  4.58  4.58  4.58   4.58     0.0"
      ]
     },
     "execution_count": 83,
     "metadata": {},
     "output_type": "execute_result"
    }
   ],
   "source": [
    "# Reindex to full 1-min frequency\n",
    "full_index = pd.date_range(start=df.index.min(), end=df.index.max(), freq=\"min\")\n",
    "df = df.reindex(full_index)\n",
    "\n",
    "# Forward fill price columns, keep Volume as 0 if missing\n",
    "price_cols = ['Open', 'High', 'Low', 'Close']\n",
    "df[price_cols] = df[price_cols].ffill()\n",
    "\n",
    "# Fill missing volumes with 0 (no trade happened)\n",
    "df['Volume'] = df['Volume'].fillna(0)\n",
    "\n",
    "# Rename index back to Timestamp if you want\n",
    "df.index.name = 'Timestamp'\n",
    "\n",
    "df.head()"
   ]
  },
  {
   "cell_type": "code",
   "execution_count": 85,
   "id": "cd3bb96c-78b0-4b19-9c93-66ca2736c828",
   "metadata": {
    "execution": {
     "iopub.execute_input": "2025-09-01T08:59:50.295277Z",
     "iopub.status.busy": "2025-09-01T08:59:50.294471Z",
     "iopub.status.idle": "2025-09-01T08:59:50.307461Z",
     "shell.execute_reply": "2025-09-01T08:59:50.306111Z",
     "shell.execute_reply.started": "2025-09-01T08:59:50.295238Z"
    }
   },
   "outputs": [
    {
     "data": {
      "text/plain": [
       "6751560"
      ]
     },
     "execution_count": 85,
     "metadata": {},
     "output_type": "execute_result"
    }
   ],
   "source": [
    "len(df)"
   ]
  },
  {
   "cell_type": "markdown",
   "id": "M-ojrPeXOxPq",
   "metadata": {
    "id": "M-ojrPeXOxPq"
   },
   "source": [
    "Visualizing Closing Price"
   ]
  },
  {
   "cell_type": "code",
   "execution_count": 88,
   "id": "DCvdjb9gOhar",
   "metadata": {
    "colab": {
     "base_uri": "https://localhost:8080/",
     "height": 564
    },
    "execution": {
     "iopub.execute_input": "2025-09-01T08:59:53.322271Z",
     "iopub.status.busy": "2025-09-01T08:59:53.321408Z",
     "iopub.status.idle": "2025-09-01T08:59:54.015137Z",
     "shell.execute_reply": "2025-09-01T08:59:54.014812Z",
     "shell.execute_reply.started": "2025-09-01T08:59:53.322227Z"
    },
    "id": "DCvdjb9gOhar",
    "outputId": "313d9fe1-80f9-43a6-a204-1051f9acd959"
   },
   "outputs": [
    {
     "data": {
      "image/png": "[encoded data removed]",
      "text/plain": [
       "<Figure size 1200x600 with 1 Axes>"
      ]
     },
     "metadata": {},
     "output_type": "display_data"
    }
   ],
   "source": [
    "plt.figure(figsize=(12, 6))\n",
    "plt.plot(df['Close'])\n",
    "plt.title(\"BTC price\")\n",
    "plt.xlabel(\"Minute\")\n",
    "plt.ylabel(\"Price (EURUSD)\")\n",
    "plt.grid(True)\n",
    "plt.show()"
   ]
  },
  {
   "cell_type": "code",
   "execution_count": 94,
   "id": "0c3b3a52-6557-495c-b4a3-d06547e086c8",
   "metadata": {
    "execution": {
     "iopub.execute_input": "2025-09-01T09:00:54.506353Z",
     "iopub.status.busy": "2025-09-01T09:00:54.505259Z",
     "iopub.status.idle": "2025-09-01T09:00:55.287144Z",
     "shell.execute_reply": "2025-09-01T09:00:55.286607Z",
     "shell.execute_reply.started": "2025-09-01T09:00:54.506283Z"
    }
   },
   "outputs": [
    {
     "data": {
      "image/png": "[encoded data removed]",
      "text/plain": [
       "<Figure size 1200x600 with 1 Axes>"
      ]
     },
     "metadata": {},
     "output_type": "display_data"
    }
   ],
   "source": [
    "# visualize volume\n",
    "plt.figure(figsize=(12, 6))\n",
    "plt.plot(df['Volume'])\n",
    "plt.title(\"BTC volume\")\n",
    "plt.xlabel(\"Minute\")\n",
    "plt.ylabel(\"Volume\")\n",
    "plt.grid(True)\n",
    "plt.show()"
   ]
  },
  {
   "cell_type": "code",
   "execution_count": 96,
   "id": "bcb52dc9-bf1a-4538-9fb6-a0c6a31f2ef7",
   "metadata": {
    "execution": {
     "iopub.execute_input": "2025-09-01T09:01:32.432589Z",
     "iopub.status.busy": "2025-09-01T09:01:32.430740Z",
     "iopub.status.idle": "2025-09-01T09:01:32.453097Z",
     "shell.execute_reply": "2025-09-01T09:01:32.452428Z",
     "shell.execute_reply.started": "2025-09-01T09:01:32.432523Z"
    }
   },
   "outputs": [
    {
     "data": {
      "text/html": [
       "<div>\n",
       "<style scoped>\n",
       "    .dataframe tbody tr th:only-of-type {\n",
       "        vertical-align: middle;\n",
       "    }\n",
       "\n",
       "    .dataframe tbody tr th {\n",
       "        vertical-align: top;\n",
       "    }\n",
       "\n",
       "    .dataframe thead th {\n",
       "        text-align: right;\n",
       "    }\n",
       "</style>\n",
       "<table border=\"1\" class=\"dataframe\">\n",
       "  <thead>\n",
       "    <tr style=\"text-align: right;\">\n",
       "      <th></th>\n",
       "      <th>Open</th>\n",
       "      <th>High</th>\n",
       "      <th>Low</th>\n",
       "      <th>Close</th>\n",
       "      <th>Volume</th>\n",
       "    </tr>\n",
       "    <tr>\n",
       "      <th>Timestamp</th>\n",
       "      <th></th>\n",
       "      <th></th>\n",
       "      <th></th>\n",
       "      <th></th>\n",
       "      <th></th>\n",
       "    </tr>\n",
       "  </thead>\n",
       "  <tbody>\n",
       "    <tr>\n",
       "      <th>2012-01-01 10:01:00</th>\n",
       "      <td>4.58</td>\n",
       "      <td>4.58</td>\n",
       "      <td>4.58</td>\n",
       "      <td>4.58</td>\n",
       "      <td>0.000000</td>\n",
       "    </tr>\n",
       "    <tr>\n",
       "      <th>2012-01-01 10:02:00</th>\n",
       "      <td>4.58</td>\n",
       "      <td>4.58</td>\n",
       "      <td>4.58</td>\n",
       "      <td>4.58</td>\n",
       "      <td>0.000000</td>\n",
       "    </tr>\n",
       "    <tr>\n",
       "      <th>2012-01-01 10:03:00</th>\n",
       "      <td>4.58</td>\n",
       "      <td>4.58</td>\n",
       "      <td>4.58</td>\n",
       "      <td>4.58</td>\n",
       "      <td>0.000000</td>\n",
       "    </tr>\n",
       "    <tr>\n",
       "      <th>2012-01-01 10:04:00</th>\n",
       "      <td>4.58</td>\n",
       "      <td>4.58</td>\n",
       "      <td>4.58</td>\n",
       "      <td>4.58</td>\n",
       "      <td>0.000000</td>\n",
       "    </tr>\n",
       "    <tr>\n",
       "      <th>2012-01-01 10:05:00</th>\n",
       "      <td>4.58</td>\n",
       "      <td>4.58</td>\n",
       "      <td>4.58</td>\n",
       "      <td>4.58</td>\n",
       "      <td>0.000000</td>\n",
       "    </tr>\n",
       "    <tr>\n",
       "      <th>...</th>\n",
       "      <td>...</td>\n",
       "      <td>...</td>\n",
       "      <td>...</td>\n",
       "      <td>...</td>\n",
       "      <td>...</td>\n",
       "    </tr>\n",
       "    <tr>\n",
       "      <th>2024-11-01 23:56:00</th>\n",
       "      <td>69512.00</td>\n",
       "      <td>69512.00</td>\n",
       "      <td>69512.00</td>\n",
       "      <td>69512.00</td>\n",
       "      <td>0.000000</td>\n",
       "    </tr>\n",
       "    <tr>\n",
       "      <th>2024-11-01 23:57:00</th>\n",
       "      <td>69511.00</td>\n",
       "      <td>69511.00</td>\n",
       "      <td>69491.00</td>\n",
       "      <td>69491.00</td>\n",
       "      <td>0.101946</td>\n",
       "    </tr>\n",
       "    <tr>\n",
       "      <th>2024-11-01 23:58:00</th>\n",
       "      <td>69490.00</td>\n",
       "      <td>69490.00</td>\n",
       "      <td>69490.00</td>\n",
       "      <td>69490.00</td>\n",
       "      <td>0.006393</td>\n",
       "    </tr>\n",
       "    <tr>\n",
       "      <th>2024-11-01 23:59:00</th>\n",
       "      <td>69491.00</td>\n",
       "      <td>69491.00</td>\n",
       "      <td>69490.00</td>\n",
       "      <td>69490.00</td>\n",
       "      <td>0.074621</td>\n",
       "    </tr>\n",
       "    <tr>\n",
       "      <th>2024-11-02 00:00:00</th>\n",
       "      <td>69468.00</td>\n",
       "      <td>69474.00</td>\n",
       "      <td>69468.00</td>\n",
       "      <td>69474.00</td>\n",
       "      <td>0.007074</td>\n",
       "    </tr>\n",
       "  </tbody>\n",
       "</table>\n",
       "<p>6751560 rows × 5 columns</p>\n",
       "</div>"
      ],
      "text/plain": [
       "                         Open      High       Low     Close    Volume\n",
       "Timestamp                                                            \n",
       "2012-01-01 10:01:00      4.58      4.58      4.58      4.58  0.000000\n",
       "2012-01-01 10:02:00      4.58      4.58      4.58      4.58  0.000000\n",
       "2012-01-01 10:03:00      4.58      4.58      4.58      4.58  0.000000\n",
       "2012-01-01 10:04:00      4.58      4.58      4.58      4.58  0.000000\n",
       "2012-01-01 10:05:00      4.58      4.58      4.58      4.58  0.000000\n",
       "...                       ...       ...       ...       ...       ...\n",
       "2024-11-01 23:56:00  69512.00  69512.00  69512.00  69512.00  0.000000\n",
       "2024-11-01 23:57:00  69511.00  69511.00  69491.00  69491.00  0.101946\n",
       "2024-11-01 23:58:00  69490.00  69490.00  69490.00  69490.00  0.006393\n",
       "2024-11-01 23:59:00  69491.00  69491.00  69490.00  69490.00  0.074621\n",
       "2024-11-02 00:00:00  69468.00  69474.00  69468.00  69474.00  0.007074\n",
       "\n",
       "[6751560 rows x 5 columns]"
      ]
     },
     "execution_count": 96,
     "metadata": {},
     "output_type": "execute_result"
    }
   ],
   "source": [
    "df"
   ]
  },
  {
   "cell_type": "code",
   "execution_count": 101,
   "id": "b88716f9-648e-4b79-bf23-afefd6fa6fb0",
   "metadata": {
    "execution": {
     "iopub.execute_input": "2025-09-01T09:04:50.611873Z",
     "iopub.status.busy": "2025-09-01T09:04:50.611048Z",
     "iopub.status.idle": "2025-09-01T09:04:50.626080Z",
     "shell.execute_reply": "2025-09-01T09:04:50.624816Z",
     "shell.execute_reply.started": "2025-09-01T09:04:50.611832Z"
    }
   },
   "outputs": [
    {
     "data": {
      "text/plain": [
       "Timestamp('2012-01-01 10:01:00')"
      ]
     },
     "execution_count": 101,
     "metadata": {},
     "output_type": "execute_result"
    }
   ],
   "source": [
    "df.index[0]"
   ]
  },
  {
   "cell_type": "code",
   "execution_count": 99,
   "id": "6ad9f8d8-86c4-4d3c-831a-a0538d54d136",
   "metadata": {
    "execution": {
     "iopub.execute_input": "2025-09-01T09:04:42.965523Z",
     "iopub.status.busy": "2025-09-01T09:04:42.964036Z",
     "iopub.status.idle": "2025-09-01T09:04:42.979424Z",
     "shell.execute_reply": "2025-09-01T09:04:42.978646Z",
     "shell.execute_reply.started": "2025-09-01T09:04:42.965441Z"
    }
   },
   "outputs": [
    {
     "data": {
      "text/plain": [
       "Timestamp('2012-01-01 00:00:00')"
      ]
     },
     "execution_count": 99,
     "metadata": {},
     "output_type": "execute_result"
    }
   ],
   "source": [
    "df.index[0].normalize()"
   ]
  },
  {
   "cell_type": "markdown",
   "id": "649b338e-83a8-432a-89b3-68d522d763a1",
   "metadata": {},
   "source": [
    "# Dataset: transform to daily \n",
    "\n",
    "---"
   ]
  },
  {
   "cell_type": "code",
   "execution_count": 105,
   "id": "a0f96788-8109-4879-92ef-964546c833eb",
   "metadata": {
    "execution": {
     "iopub.execute_input": "2025-09-01T09:06:26.548381Z",
     "iopub.status.busy": "2025-09-01T09:06:26.547248Z",
     "iopub.status.idle": "2025-09-01T09:06:27.158327Z",
     "shell.execute_reply": "2025-09-01T09:06:27.157984Z",
     "shell.execute_reply.started": "2025-09-01T09:06:26.548309Z"
    }
   },
   "outputs": [
    {
     "name": "stdout",
     "output_type": "stream",
     "text": [
      "Final daily dataset has 4688 rows after dropping fractional days.\n"
     ]
    }
   ],
   "source": [
    "import pandas as pd\n",
    "\n",
    "# Assume df has Timestamp index at 1-min freq\n",
    "\n",
    "# 1. Resample to daily OHLC and sum volume\n",
    "daily = df.resample('1D').agg({\n",
    "    'Open': 'first',\n",
    "    'High': 'max',\n",
    "    'Low': 'min',\n",
    "    'Close': 'last',\n",
    "    'Volume': 'sum'\n",
    "})\n",
    "\n",
    "# 2. Drop days where all values are NaN (e.g., no trading at all)\n",
    "daily = daily.dropna(how='all')\n",
    "\n",
    "# 3. Identify fractional first/last days\n",
    "first_day = df.index[0].normalize()\n",
    "last_day = df.index[-1].normalize()\n",
    "\n",
    "# Drop first day if it starts after midnight\n",
    "if df.index[0] > first_day:\n",
    "    daily = daily.drop(first_day, errors=\"ignore\")\n",
    "\n",
    "# Drop last day if it ends before midnight\n",
    "if df.index[-1] < last_day + pd.Timedelta(days=1) - pd.Timedelta(minutes=1):\n",
    "    daily = daily.drop(last_day, errors=\"ignore\")\n",
    "\n",
    "print(f\"Final daily dataset has {len(daily)} rows after dropping fractional days.\")"
   ]
  },
  {
   "cell_type": "code",
   "execution_count": 107,
   "id": "91e3ce95-c94e-425f-9839-50ffd0fe8e65",
   "metadata": {
    "execution": {
     "iopub.execute_input": "2025-09-01T09:06:38.756922Z",
     "iopub.status.busy": "2025-09-01T09:06:38.756136Z",
     "iopub.status.idle": "2025-09-01T09:06:38.782003Z",
     "shell.execute_reply": "2025-09-01T09:06:38.780784Z",
     "shell.execute_reply.started": "2025-09-01T09:06:38.756881Z"
    }
   },
   "outputs": [
    {
     "data": {
      "text/html": [
       "<div>\n",
       "<style scoped>\n",
       "    .dataframe tbody tr th:only-of-type {\n",
       "        vertical-align: middle;\n",
       "    }\n",
       "\n",
       "    .dataframe tbody tr th {\n",
       "        vertical-align: top;\n",
       "    }\n",
       "\n",
       "    .dataframe thead th {\n",
       "        text-align: right;\n",
       "    }\n",
       "</style>\n",
       "<table border=\"1\" class=\"dataframe\">\n",
       "  <thead>\n",
       "    <tr style=\"text-align: right;\">\n",
       "      <th></th>\n",
       "      <th>Open</th>\n",
       "      <th>High</th>\n",
       "      <th>Low</th>\n",
       "      <th>Close</th>\n",
       "      <th>Volume</th>\n",
       "    </tr>\n",
       "    <tr>\n",
       "      <th>Timestamp</th>\n",
       "      <th></th>\n",
       "      <th></th>\n",
       "      <th></th>\n",
       "      <th></th>\n",
       "      <th></th>\n",
       "    </tr>\n",
       "  </thead>\n",
       "  <tbody>\n",
       "    <tr>\n",
       "      <th>2012-01-02</th>\n",
       "      <td>4.84</td>\n",
       "      <td>5.00</td>\n",
       "      <td>4.84</td>\n",
       "      <td>5.00</td>\n",
       "      <td>10.100000</td>\n",
       "    </tr>\n",
       "    <tr>\n",
       "      <th>2012-01-03</th>\n",
       "      <td>5.00</td>\n",
       "      <td>5.32</td>\n",
       "      <td>5.00</td>\n",
       "      <td>5.29</td>\n",
       "      <td>107.085281</td>\n",
       "    </tr>\n",
       "    <tr>\n",
       "      <th>2012-01-04</th>\n",
       "      <td>5.29</td>\n",
       "      <td>5.57</td>\n",
       "      <td>4.93</td>\n",
       "      <td>5.57</td>\n",
       "      <td>107.233260</td>\n",
       "    </tr>\n",
       "    <tr>\n",
       "      <th>2012-01-05</th>\n",
       "      <td>5.57</td>\n",
       "      <td>6.46</td>\n",
       "      <td>5.57</td>\n",
       "      <td>6.42</td>\n",
       "      <td>70.328742</td>\n",
       "    </tr>\n",
       "    <tr>\n",
       "      <th>2012-01-06</th>\n",
       "      <td>6.42</td>\n",
       "      <td>6.90</td>\n",
       "      <td>6.40</td>\n",
       "      <td>6.40</td>\n",
       "      <td>55.855834</td>\n",
       "    </tr>\n",
       "  </tbody>\n",
       "</table>\n",
       "</div>"
      ],
      "text/plain": [
       "            Open  High   Low  Close      Volume\n",
       "Timestamp                                      \n",
       "2012-01-02  4.84  5.00  4.84   5.00   10.100000\n",
       "2012-01-03  5.00  5.32  5.00   5.29  107.085281\n",
       "2012-01-04  5.29  5.57  4.93   5.57  107.233260\n",
       "2012-01-05  5.57  6.46  5.57   6.42   70.328742\n",
       "2012-01-06  6.42  6.90  6.40   6.40   55.855834"
      ]
     },
     "execution_count": 107,
     "metadata": {},
     "output_type": "execute_result"
    }
   ],
   "source": [
    "daily.head()"
   ]
  },
  {
   "cell_type": "code",
   "execution_count": 109,
   "id": "60242242-627d-4663-9748-a7c00828623b",
   "metadata": {
    "execution": {
     "iopub.execute_input": "2025-09-01T09:06:49.221925Z",
     "iopub.status.busy": "2025-09-01T09:06:49.220961Z",
     "iopub.status.idle": "2025-09-01T09:06:49.231132Z",
     "shell.execute_reply": "2025-09-01T09:06:49.229829Z",
     "shell.execute_reply.started": "2025-09-01T09:06:49.221857Z"
    }
   },
   "outputs": [],
   "source": [
    "df = daily"
   ]
  },
  {
   "cell_type": "code",
   "execution_count": 115,
   "id": "c38cb6ae-713a-4002-8876-80b9e3eeea5a",
   "metadata": {
    "execution": {
     "iopub.execute_input": "2025-09-01T09:07:09.785496Z",
     "iopub.status.busy": "2025-09-01T09:07:09.784391Z",
     "iopub.status.idle": "2025-09-01T09:07:09.793034Z",
     "shell.execute_reply": "2025-09-01T09:07:09.792059Z",
     "shell.execute_reply.started": "2025-09-01T09:07:09.785454Z"
    }
   },
   "outputs": [
    {
     "data": {
      "text/plain": [
       "4688"
      ]
     },
     "execution_count": 115,
     "metadata": {},
     "output_type": "execute_result"
    }
   ],
   "source": [
    "len(df)"
   ]
  },
  {
   "cell_type": "code",
   "execution_count": null,
   "id": "037a375c-2cb5-4a1d-851e-54cb1bab206c",
   "metadata": {},
   "outputs": [],
   "source": []
  },
  {
   "cell_type": "code",
   "execution_count": null,
   "id": "949169a6-82c9-4511-9d5b-c9f769f27fd5",
   "metadata": {},
   "outputs": [],
   "source": []
  },
  {
   "cell_type": "code",
   "execution_count": null,
   "id": "f1c4e30b-aee9-4be5-8b7d-983945bf26d0",
   "metadata": {},
   "outputs": [],
   "source": []
  },
  {
   "cell_type": "markdown",
   "id": "UMkTEOfBlzte",
   "metadata": {
    "id": "UMkTEOfBlzte"
   },
   "source": [
    "# Plotting moving averages of 100 day\n",
    "\n",
    "---\n",
    "\n"
   ]
  },
  {
   "cell_type": "code",
   "execution_count": 111,
   "id": "114d2e0c",
   "metadata": {
    "colab": {
     "base_uri": "https://localhost:8080/"
    },
    "execution": {
     "iopub.execute_input": "2025-09-01T09:06:52.209109Z",
     "iopub.status.busy": "2025-09-01T09:06:52.208051Z",
     "iopub.status.idle": "2025-09-01T09:06:52.229196Z",
     "shell.execute_reply": "2025-09-01T09:06:52.227939Z",
     "shell.execute_reply.started": "2025-09-01T09:06:52.209040Z"
    },
    "id": "114d2e0c",
    "outputId": "aad49169-4922-4f48-bd62-84ec26fa3768"
   },
   "outputs": [
    {
     "data": {
      "text/plain": [
       "Timestamp\n",
       "2012-01-02         NaN\n",
       "2012-01-03         NaN\n",
       "2012-01-04         NaN\n",
       "2012-01-05         NaN\n",
       "2012-01-06         NaN\n",
       "                ...   \n",
       "2024-10-28    62261.42\n",
       "2024-10-29    62286.38\n",
       "2024-10-30    62327.36\n",
       "2024-10-31    62395.35\n",
       "2024-11-01    62434.14\n",
       "Freq: D, Name: Close, Length: 4688, dtype: float64"
      ]
     },
     "execution_count": 111,
     "metadata": {},
     "output_type": "execute_result"
    }
   ],
   "source": [
    "ma100 = df.Close.rolling(100).mean()\n",
    "ma100"
   ]
  },
  {
   "cell_type": "code",
   "execution_count": 113,
   "id": "e2f6b740",
   "metadata": {
    "colab": {
     "base_uri": "https://localhost:8080/",
     "height": 563
    },
    "execution": {
     "iopub.execute_input": "2025-09-01T09:06:59.227711Z",
     "iopub.status.busy": "2025-09-01T09:06:59.226605Z",
     "iopub.status.idle": "2025-09-01T09:06:59.374297Z",
     "shell.execute_reply": "2025-09-01T09:06:59.373937Z",
     "shell.execute_reply.started": "2025-09-01T09:06:59.227641Z"
    },
    "id": "e2f6b740",
    "outputId": "136dd8a6-23d1-4fef-d676-8db5fed9e4b5"
   },
   "outputs": [
    {
     "data": {
      "text/plain": [
       "Text(0.5, 1.0, 'Graph Of Moving Averages Of 100 Days')"
      ]
     },
     "execution_count": 113,
     "metadata": {},
     "output_type": "execute_result"
    },
    {
     "data": {
      "image/png": "[encoded data removed]",
      "text/plain": [
       "<Figure size 1200x600 with 1 Axes>"
      ]
     },
     "metadata": {},
     "output_type": "display_data"
    }
   ],
   "source": [
    "plt.figure(figsize = (12,6))\n",
    "plt.plot(df.Close)\n",
    "plt.plot(ma100, 'r')\n",
    "plt.grid(True)\n",
    "plt.title('Graph Of Moving Averages Of 100 Days')"
   ]
  },
  {
   "cell_type": "markdown",
   "id": "LQKvGsXwmN65",
   "metadata": {
    "id": "LQKvGsXwmN65"
   },
   "source": [
    "# Defining 200 days moving averages and plotting comparision graph with 100 days moving averages\n",
    "\n",
    "---\n",
    "\n"
   ]
  },
  {
   "cell_type": "code",
   "execution_count": 117,
   "id": "46c89811",
   "metadata": {
    "colab": {
     "base_uri": "https://localhost:8080/"
    },
    "execution": {
     "iopub.execute_input": "2025-09-01T09:07:14.690098Z",
     "iopub.status.busy": "2025-09-01T09:07:14.688856Z",
     "iopub.status.idle": "2025-09-01T09:07:14.702939Z",
     "shell.execute_reply": "2025-09-01T09:07:14.702517Z",
     "shell.execute_reply.started": "2025-09-01T09:07:14.690041Z"
    },
    "id": "46c89811",
    "outputId": "a7a974f0-937e-4265-b375-929053f46272"
   },
   "outputs": [
    {
     "data": {
      "text/plain": [
       "Timestamp\n",
       "2012-01-02          NaN\n",
       "2012-01-03          NaN\n",
       "2012-01-04          NaN\n",
       "2012-01-05          NaN\n",
       "2012-01-06          NaN\n",
       "                ...    \n",
       "2024-10-28    63232.665\n",
       "2024-10-29    63248.165\n",
       "2024-10-30    63285.390\n",
       "2024-10-31    63326.090\n",
       "2024-11-01    63356.795\n",
       "Freq: D, Name: Close, Length: 4688, dtype: float64"
      ]
     },
     "execution_count": 117,
     "metadata": {},
     "output_type": "execute_result"
    }
   ],
   "source": [
    "ma200 = df.Close.rolling(200).mean()\n",
    "ma200"
   ]
  },
  {
   "cell_type": "code",
   "execution_count": 119,
   "id": "d7c0ce2e",
   "metadata": {
    "colab": {
     "base_uri": "https://localhost:8080/",
     "height": 563
    },
    "execution": {
     "iopub.execute_input": "2025-09-01T09:07:16.653802Z",
     "iopub.status.busy": "2025-09-01T09:07:16.653005Z",
     "iopub.status.idle": "2025-09-01T09:07:16.798919Z",
     "shell.execute_reply": "2025-09-01T09:07:16.798599Z",
     "shell.execute_reply.started": "2025-09-01T09:07:16.653759Z"
    },
    "id": "d7c0ce2e",
    "outputId": "853bd4ca-af7d-4c81-9d9d-92ec6eddbef2"
   },
   "outputs": [
    {
     "data": {
      "text/plain": [
       "Text(0.5, 1.0, 'Comparision Of 100 Days And 200 Days Moving Averages')"
      ]
     },
     "execution_count": 119,
     "metadata": {},
     "output_type": "execute_result"
    },
    {
     "data": {
      "image/png": "[encoded data removed]",
      "text/plain": [
       "<Figure size 1200x600 with 1 Axes>"
      ]
     },
     "metadata": {},
     "output_type": "display_data"
    }
   ],
   "source": [
    "plt.figure(figsize = (12,6))\n",
    "plt.plot(df.Close)\n",
    "plt.plot(ma100, 'r')\n",
    "plt.plot(ma200, 'g')\n",
    "plt.grid(True)\n",
    "plt.title('Comparision Of 100 Days And 200 Days Moving Averages')"
   ]
  },
  {
   "cell_type": "code",
   "execution_count": 121,
   "id": "45a099a7",
   "metadata": {
    "colab": {
     "base_uri": "https://localhost:8080/"
    },
    "execution": {
     "iopub.execute_input": "2025-09-01T09:07:20.846288Z",
     "iopub.status.busy": "2025-09-01T09:07:20.845463Z",
     "iopub.status.idle": "2025-09-01T09:07:20.858301Z",
     "shell.execute_reply": "2025-09-01T09:07:20.856972Z",
     "shell.execute_reply.started": "2025-09-01T09:07:20.846246Z"
    },
    "id": "45a099a7",
    "outputId": "c3685930-176a-4c2d-b391-69866c4637c5"
   },
   "outputs": [
    {
     "data": {
      "text/plain": [
       "(4688, 5)"
      ]
     },
     "execution_count": 121,
     "metadata": {},
     "output_type": "execute_result"
    }
   ],
   "source": [
    "df.shape"
   ]
  },
  {
   "cell_type": "markdown",
   "id": "bCw5fsrlmfpm",
   "metadata": {
    "id": "bCw5fsrlmfpm"
   },
   "source": [
    "# Spliting the dataset into training (70%) and testing (30%) set"
   ]
  },
  {
   "cell_type": "code",
   "execution_count": 143,
   "id": "9610c5fc",
   "metadata": {
    "colab": {
     "base_uri": "https://localhost:8080/"
    },
    "execution": {
     "iopub.execute_input": "2025-09-01T09:08:34.216792Z",
     "iopub.status.busy": "2025-09-01T09:08:34.215580Z",
     "iopub.status.idle": "2025-09-01T09:08:34.228328Z",
     "shell.execute_reply": "2025-09-01T09:08:34.227373Z",
     "shell.execute_reply.started": "2025-09-01T09:08:34.216718Z"
    },
    "id": "9610c5fc",
    "outputId": "56ee8fcd-ce88-4705-f511-b030a00712c0"
   },
   "outputs": [
    {
     "name": "stdout",
     "output_type": "stream",
     "text": [
      "(3281, 5)\n",
      "(1407, 5)\n"
     ]
    }
   ],
   "source": [
    "# Splitting data into training and testing\n",
    "\n",
    "train = pd.DataFrame(df[0:int(len(df)*0.70)])\n",
    "test = pd.DataFrame(df[int(len(df)*0.70): int(len(df))])\n",
    "\n",
    "print(train.shape)\n",
    "print(test.shape)"
   ]
  },
  {
   "cell_type": "code",
   "execution_count": 145,
   "id": "2cb33dc0",
   "metadata": {
    "colab": {
     "base_uri": "https://localhost:8080/",
     "height": 206
    },
    "execution": {
     "iopub.execute_input": "2025-09-01T09:08:34.645035Z",
     "iopub.status.busy": "2025-09-01T09:08:34.643960Z",
     "iopub.status.idle": "2025-09-01T09:08:34.666022Z",
     "shell.execute_reply": "2025-09-01T09:08:34.665412Z",
     "shell.execute_reply.started": "2025-09-01T09:08:34.644967Z"
    },
    "id": "2cb33dc0",
    "outputId": "bccf505c-0272-48e4-8b35-138abd6723dd"
   },
   "outputs": [
    {
     "data": {
      "text/html": [
       "<div>\n",
       "<style scoped>\n",
       "    .dataframe tbody tr th:only-of-type {\n",
       "        vertical-align: middle;\n",
       "    }\n",
       "\n",
       "    .dataframe tbody tr th {\n",
       "        vertical-align: top;\n",
       "    }\n",
       "\n",
       "    .dataframe thead th {\n",
       "        text-align: right;\n",
       "    }\n",
       "</style>\n",
       "<table border=\"1\" class=\"dataframe\">\n",
       "  <thead>\n",
       "    <tr style=\"text-align: right;\">\n",
       "      <th></th>\n",
       "      <th>Open</th>\n",
       "      <th>High</th>\n",
       "      <th>Low</th>\n",
       "      <th>Close</th>\n",
       "      <th>Volume</th>\n",
       "    </tr>\n",
       "    <tr>\n",
       "      <th>Timestamp</th>\n",
       "      <th></th>\n",
       "      <th></th>\n",
       "      <th></th>\n",
       "      <th></th>\n",
       "      <th></th>\n",
       "    </tr>\n",
       "  </thead>\n",
       "  <tbody>\n",
       "    <tr>\n",
       "      <th>2012-01-02</th>\n",
       "      <td>4.84</td>\n",
       "      <td>5.00</td>\n",
       "      <td>4.84</td>\n",
       "      <td>5.00</td>\n",
       "      <td>10.100000</td>\n",
       "    </tr>\n",
       "    <tr>\n",
       "      <th>2012-01-03</th>\n",
       "      <td>5.00</td>\n",
       "      <td>5.32</td>\n",
       "      <td>5.00</td>\n",
       "      <td>5.29</td>\n",
       "      <td>107.085281</td>\n",
       "    </tr>\n",
       "    <tr>\n",
       "      <th>2012-01-04</th>\n",
       "      <td>5.29</td>\n",
       "      <td>5.57</td>\n",
       "      <td>4.93</td>\n",
       "      <td>5.57</td>\n",
       "      <td>107.233260</td>\n",
       "    </tr>\n",
       "    <tr>\n",
       "      <th>2012-01-05</th>\n",
       "      <td>5.57</td>\n",
       "      <td>6.46</td>\n",
       "      <td>5.57</td>\n",
       "      <td>6.42</td>\n",
       "      <td>70.328742</td>\n",
       "    </tr>\n",
       "    <tr>\n",
       "      <th>2012-01-06</th>\n",
       "      <td>6.42</td>\n",
       "      <td>6.90</td>\n",
       "      <td>6.40</td>\n",
       "      <td>6.40</td>\n",
       "      <td>55.855834</td>\n",
       "    </tr>\n",
       "  </tbody>\n",
       "</table>\n",
       "</div>"
      ],
      "text/plain": [
       "            Open  High   Low  Close      Volume\n",
       "Timestamp                                      \n",
       "2012-01-02  4.84  5.00  4.84   5.00   10.100000\n",
       "2012-01-03  5.00  5.32  5.00   5.29  107.085281\n",
       "2012-01-04  5.29  5.57  4.93   5.57  107.233260\n",
       "2012-01-05  5.57  6.46  5.57   6.42   70.328742\n",
       "2012-01-06  6.42  6.90  6.40   6.40   55.855834"
      ]
     },
     "execution_count": 145,
     "metadata": {},
     "output_type": "execute_result"
    }
   ],
   "source": [
    "train.head()"
   ]
  },
  {
   "cell_type": "code",
   "execution_count": 164,
   "id": "91f5ef8b",
   "metadata": {
    "colab": {
     "base_uri": "https://localhost:8080/",
     "height": 206
    },
    "execution": {
     "iopub.execute_input": "2025-09-01T09:09:24.564125Z",
     "iopub.status.busy": "2025-09-01T09:09:24.563390Z",
     "iopub.status.idle": "2025-09-01T09:09:24.583618Z",
     "shell.execute_reply": "2025-09-01T09:09:24.582982Z",
     "shell.execute_reply.started": "2025-09-01T09:09:24.564085Z"
    },
    "id": "91f5ef8b",
    "outputId": "8e92506b-b4ea-4eec-c643-0f6e2d34bb90"
   },
   "outputs": [
    {
     "data": {
      "text/html": [
       "<div>\n",
       "<style scoped>\n",
       "    .dataframe tbody tr th:only-of-type {\n",
       "        vertical-align: middle;\n",
       "    }\n",
       "\n",
       "    .dataframe tbody tr th {\n",
       "        vertical-align: top;\n",
       "    }\n",
       "\n",
       "    .dataframe thead th {\n",
       "        text-align: right;\n",
       "    }\n",
       "</style>\n",
       "<table border=\"1\" class=\"dataframe\">\n",
       "  <thead>\n",
       "    <tr style=\"text-align: right;\">\n",
       "      <th></th>\n",
       "      <th>Open</th>\n",
       "      <th>High</th>\n",
       "      <th>Low</th>\n",
       "      <th>Close</th>\n",
       "      <th>Volume</th>\n",
       "    </tr>\n",
       "    <tr>\n",
       "      <th>Timestamp</th>\n",
       "      <th></th>\n",
       "      <th></th>\n",
       "      <th></th>\n",
       "      <th></th>\n",
       "      <th></th>\n",
       "    </tr>\n",
       "  </thead>\n",
       "  <tbody>\n",
       "    <tr>\n",
       "      <th>2020-12-26</th>\n",
       "      <td>24356.63</td>\n",
       "      <td>25985.93</td>\n",
       "      <td>24194.12</td>\n",
       "      <td>25620.57</td>\n",
       "      <td>5891.021658</td>\n",
       "    </tr>\n",
       "    <tr>\n",
       "      <th>2020-12-27</th>\n",
       "      <td>25631.37</td>\n",
       "      <td>28377.94</td>\n",
       "      <td>25572.91</td>\n",
       "      <td>27009.58</td>\n",
       "      <td>13373.305793</td>\n",
       "    </tr>\n",
       "    <tr>\n",
       "      <th>2020-12-28</th>\n",
       "      <td>26998.78</td>\n",
       "      <td>27473.49</td>\n",
       "      <td>25770.00</td>\n",
       "      <td>26990.99</td>\n",
       "      <td>9034.221715</td>\n",
       "    </tr>\n",
       "    <tr>\n",
       "      <th>2020-12-29</th>\n",
       "      <td>26982.60</td>\n",
       "      <td>27162.17</td>\n",
       "      <td>25831.85</td>\n",
       "      <td>26577.94</td>\n",
       "      <td>9026.194760</td>\n",
       "    </tr>\n",
       "    <tr>\n",
       "      <th>2020-12-30</th>\n",
       "      <td>26577.94</td>\n",
       "      <td>28599.99</td>\n",
       "      <td>26521.17</td>\n",
       "      <td>28525.26</td>\n",
       "      <td>11065.005263</td>\n",
       "    </tr>\n",
       "  </tbody>\n",
       "</table>\n",
       "</div>"
      ],
      "text/plain": [
       "                Open      High       Low     Close        Volume\n",
       "Timestamp                                                       \n",
       "2020-12-26  24356.63  25985.93  24194.12  25620.57   5891.021658\n",
       "2020-12-27  25631.37  28377.94  25572.91  27009.58  13373.305793\n",
       "2020-12-28  26998.78  27473.49  25770.00  26990.99   9034.221715\n",
       "2020-12-29  26982.60  27162.17  25831.85  26577.94   9026.194760\n",
       "2020-12-30  26577.94  28599.99  26521.17  28525.26  11065.005263"
      ]
     },
     "execution_count": 164,
     "metadata": {},
     "output_type": "execute_result"
    }
   ],
   "source": [
    "test.head()"
   ]
  },
  {
   "cell_type": "markdown",
   "id": "-a818gdwm_WV",
   "metadata": {
    "id": "-a818gdwm_WV"
   },
   "source": [
    "# Using MinMax scaler for normalization of the dataset\n",
    "\n",
    "---\n",
    "\n"
   ]
  },
  {
   "cell_type": "code",
   "execution_count": 252,
   "id": "01f04df7",
   "metadata": {
    "execution": {
     "iopub.execute_input": "2025-09-01T10:09:58.814745Z",
     "iopub.status.busy": "2025-09-01T10:09:58.814010Z",
     "iopub.status.idle": "2025-09-01T10:09:58.822246Z",
     "shell.execute_reply": "2025-09-01T10:09:58.821045Z",
     "shell.execute_reply.started": "2025-09-01T10:09:58.814709Z"
    },
    "id": "01f04df7"
   },
   "outputs": [],
   "source": [
    "from sklearn.preprocessing import MinMaxScaler\n",
    "scaler = MinMaxScaler(feature_range=(0,1))"
   ]
  },
  {
   "cell_type": "code",
   "execution_count": 254,
   "id": "53oSB51dB6Tw",
   "metadata": {
    "execution": {
     "iopub.execute_input": "2025-09-01T10:09:59.261868Z",
     "iopub.status.busy": "2025-09-01T10:09:59.261024Z",
     "iopub.status.idle": "2025-09-01T10:09:59.273468Z",
     "shell.execute_reply": "2025-09-01T10:09:59.272206Z",
     "shell.execute_reply.started": "2025-09-01T10:09:59.261825Z"
    },
    "id": "53oSB51dB6Tw"
   },
   "outputs": [],
   "source": [
    "train_close = train.iloc[:, 3:4].values\n",
    "test_close = test.iloc[:, 3:4].values"
   ]
  },
  {
   "cell_type": "code",
   "execution_count": 256,
   "id": "26bd42d1-07f4-4aad-8575-bfa8425daecf",
   "metadata": {
    "execution": {
     "iopub.execute_input": "2025-09-01T10:09:59.682579Z",
     "iopub.status.busy": "2025-09-01T10:09:59.681482Z",
     "iopub.status.idle": "2025-09-01T10:09:59.702141Z",
     "shell.execute_reply": "2025-09-01T10:09:59.701305Z",
     "shell.execute_reply.started": "2025-09-01T10:09:59.682503Z"
    }
   },
   "outputs": [
    {
     "data": {
      "text/html": [
       "<div>\n",
       "<style scoped>\n",
       "    .dataframe tbody tr th:only-of-type {\n",
       "        vertical-align: middle;\n",
       "    }\n",
       "\n",
       "    .dataframe tbody tr th {\n",
       "        vertical-align: top;\n",
       "    }\n",
       "\n",
       "    .dataframe thead th {\n",
       "        text-align: right;\n",
       "    }\n",
       "</style>\n",
       "<table border=\"1\" class=\"dataframe\">\n",
       "  <thead>\n",
       "    <tr style=\"text-align: right;\">\n",
       "      <th></th>\n",
       "      <th>Close</th>\n",
       "    </tr>\n",
       "    <tr>\n",
       "      <th>Timestamp</th>\n",
       "      <th></th>\n",
       "    </tr>\n",
       "  </thead>\n",
       "  <tbody>\n",
       "    <tr>\n",
       "      <th>2012-01-02</th>\n",
       "      <td>5.00</td>\n",
       "    </tr>\n",
       "    <tr>\n",
       "      <th>2012-01-03</th>\n",
       "      <td>5.29</td>\n",
       "    </tr>\n",
       "    <tr>\n",
       "      <th>2012-01-04</th>\n",
       "      <td>5.57</td>\n",
       "    </tr>\n",
       "    <tr>\n",
       "      <th>2012-01-05</th>\n",
       "      <td>6.42</td>\n",
       "    </tr>\n",
       "    <tr>\n",
       "      <th>2012-01-06</th>\n",
       "      <td>6.40</td>\n",
       "    </tr>\n",
       "    <tr>\n",
       "      <th>...</th>\n",
       "      <td>...</td>\n",
       "    </tr>\n",
       "    <tr>\n",
       "      <th>2020-12-21</th>\n",
       "      <td>22818.47</td>\n",
       "    </tr>\n",
       "    <tr>\n",
       "      <th>2020-12-22</th>\n",
       "      <td>23436.63</td>\n",
       "    </tr>\n",
       "    <tr>\n",
       "      <th>2020-12-23</th>\n",
       "      <td>23615.26</td>\n",
       "    </tr>\n",
       "    <tr>\n",
       "      <th>2020-12-24</th>\n",
       "      <td>23321.22</td>\n",
       "    </tr>\n",
       "    <tr>\n",
       "      <th>2020-12-25</th>\n",
       "      <td>24343.05</td>\n",
       "    </tr>\n",
       "  </tbody>\n",
       "</table>\n",
       "<p>3281 rows × 1 columns</p>\n",
       "</div>"
      ],
      "text/plain": [
       "               Close\n",
       "Timestamp           \n",
       "2012-01-02      5.00\n",
       "2012-01-03      5.29\n",
       "2012-01-04      5.57\n",
       "2012-01-05      6.42\n",
       "2012-01-06      6.40\n",
       "...              ...\n",
       "2020-12-21  22818.47\n",
       "2020-12-22  23436.63\n",
       "2020-12-23  23615.26\n",
       "2020-12-24  23321.22\n",
       "2020-12-25  24343.05\n",
       "\n",
       "[3281 rows x 1 columns]"
      ]
     },
     "execution_count": 256,
     "metadata": {},
     "output_type": "execute_result"
    }
   ],
   "source": [
    "train.iloc[:, 3:4]"
   ]
  },
  {
   "cell_type": "code",
   "execution_count": 258,
   "id": "d97e7ff8",
   "metadata": {
    "colab": {
     "base_uri": "https://localhost:8080/"
    },
    "execution": {
     "iopub.execute_input": "2025-09-01T10:10:03.440960Z",
     "iopub.status.busy": "2025-09-01T10:10:03.439524Z",
     "iopub.status.idle": "2025-09-01T10:10:03.455135Z",
     "shell.execute_reply": "2025-09-01T10:10:03.454366Z",
     "shell.execute_reply.started": "2025-09-01T10:10:03.440886Z"
    },
    "id": "d97e7ff8",
    "outputId": "eae5e982-ee9f-4be5-af17-b78fc6e6dd45"
   },
   "outputs": [
    {
     "data": {
      "text/plain": [
       "array([[2.54738653e-05],\n",
       "       [3.73890603e-05],\n",
       "       [4.88933865e-05],\n",
       "       ...,\n",
       "       [9.70097380e-01],\n",
       "       [9.58016194e-01],\n",
       "       [1.00000000e+00]])"
      ]
     },
     "execution_count": 258,
     "metadata": {},
     "output_type": "execute_result"
    }
   ],
   "source": [
    "data_training_array = scaler.fit_transform(train_close)\n",
    "data_training_array"
   ]
  },
  {
   "cell_type": "code",
   "execution_count": 260,
   "id": "10227978",
   "metadata": {
    "execution": {
     "iopub.execute_input": "2025-09-01T10:10:12.238084Z",
     "iopub.status.busy": "2025-09-01T10:10:12.236996Z",
     "iopub.status.idle": "2025-09-01T10:10:12.259097Z",
     "shell.execute_reply": "2025-09-01T10:10:12.258005Z",
     "shell.execute_reply.started": "2025-09-01T10:10:12.238014Z"
    },
    "id": "10227978"
   },
   "outputs": [],
   "source": [
    "x_train = []\n",
    "y_train = [] \n",
    "\n",
    "for i in range(100, data_training_array.shape[0]):\n",
    "    x_train.append(data_training_array[i-100: i])\n",
    "    y_train.append(data_training_array[i, 0])\n",
    "\n",
    "x_train, y_train = np.array(x_train), np.array(y_train) "
   ]
  },
  {
   "cell_type": "code",
   "execution_count": 262,
   "id": "0ea6446e",
   "metadata": {
    "colab": {
     "base_uri": "https://localhost:8080/"
    },
    "execution": {
     "iopub.execute_input": "2025-09-01T10:10:12.722152Z",
     "iopub.status.busy": "2025-09-01T10:10:12.721286Z",
     "iopub.status.idle": "2025-09-01T10:10:12.733577Z",
     "shell.execute_reply": "2025-09-01T10:10:12.732460Z",
     "shell.execute_reply.started": "2025-09-01T10:10:12.722107Z"
    },
    "id": "0ea6446e",
    "outputId": "16c4a903-7a88-43c7-e30b-89149f057b75"
   },
   "outputs": [
    {
     "data": {
      "text/plain": [
       "(3181, 100, 1)"
      ]
     },
     "execution_count": 262,
     "metadata": {},
     "output_type": "execute_result"
    }
   ],
   "source": [
    "x_train.shape"
   ]
  },
  {
   "cell_type": "markdown",
   "id": "dsMIlQ8DnVOJ",
   "metadata": {
    "id": "dsMIlQ8DnVOJ"
   },
   "source": [
    "# ML Model (LSTM)\n",
    "\n",
    "---\n",
    "\n"
   ]
  },
  {
   "cell_type": "code",
   "execution_count": 173,
   "id": "e60ed317",
   "metadata": {
    "execution": {
     "iopub.execute_input": "2025-09-01T09:10:08.807833Z",
     "iopub.status.busy": "2025-09-01T09:10:08.807002Z",
     "iopub.status.idle": "2025-09-01T09:10:08.837180Z",
     "shell.execute_reply": "2025-09-01T09:10:08.836626Z",
     "shell.execute_reply.started": "2025-09-01T09:10:08.807787Z"
    },
    "id": "e60ed317"
   },
   "outputs": [],
   "source": [
    "from tensorflow.keras.layers import Dense, Dropout, LSTM\n",
    "from tensorflow.keras.models import Sequential"
   ]
  },
  {
   "cell_type": "code",
   "execution_count": 175,
   "id": "17082610",
   "metadata": {
    "colab": {
     "base_uri": "https://localhost:8080/"
    },
    "execution": {
     "iopub.execute_input": "2025-09-01T09:10:11.644922Z",
     "iopub.status.busy": "2025-09-01T09:10:11.643949Z",
     "iopub.status.idle": "2025-09-01T09:10:11.782265Z",
     "shell.execute_reply": "2025-09-01T09:10:11.781915Z",
     "shell.execute_reply.started": "2025-09-01T09:10:11.644864Z"
    },
    "id": "17082610",
    "outputId": "e3a8a228-487d-40be-a6ce-7e999581b9d1"
   },
   "outputs": [
    {
     "name": "stderr",
     "output_type": "stream",
     "text": [
      "/opt/anaconda3/envs/algo_trading/lib/python3.10/site-packages/keras/src/layers/rnn/rnn.py:200: UserWarning: Do not pass an `input_shape`/`input_dim` argument to a layer. When using Sequential models, prefer using an `Input(shape)` object as the first layer in the model instead.\n",
      "  super().__init__(**kwargs)\n"
     ]
    }
   ],
   "source": [
    "model = Sequential()\n",
    "model.add(LSTM(units = 50, activation = 'relu', return_sequences=True\n",
    "              ,input_shape = (x_train.shape[1], 1)))\n",
    "model.add(Dropout(0.2))\n",
    "\n",
    "\n",
    "model.add(LSTM(units = 60, activation = 'relu', return_sequences=True))\n",
    "model.add(Dropout(0.3))\n",
    "\n",
    "\n",
    "model.add(LSTM(units = 80, activation = 'relu', return_sequences=True))\n",
    "model.add(Dropout(0.4))\n",
    "\n",
    "\n",
    "model.add(LSTM(units = 120, activation = 'relu'))\n",
    "model.add(Dropout(0.5))\n",
    "\n",
    "model.add(Dense(units = 1))"
   ]
  },
  {
   "cell_type": "code",
   "execution_count": 177,
   "id": "5f5a1db3",
   "metadata": {
    "colab": {
     "base_uri": "https://localhost:8080/"
    },
    "execution": {
     "iopub.execute_input": "2025-09-01T09:10:13.340330Z",
     "iopub.status.busy": "2025-09-01T09:10:13.339197Z",
     "iopub.status.idle": "2025-09-01T09:10:13.367848Z",
     "shell.execute_reply": "2025-09-01T09:10:13.367371Z",
     "shell.execute_reply.started": "2025-09-01T09:10:13.340255Z"
    },
    "id": "5f5a1db3",
    "outputId": "23244ace-c6af-46ed-e068-77c1cd563dd0"
   },
   "outputs": [
    {
     "data": {
      "text/html": [
       "<pre style=\"white-space:pre;overflow-x:auto;line-height:normal;font-family:Menlo,'DejaVu Sans Mono',consolas,'Courier New',monospace\"><span style=\"font-weight: bold\">Model: \"sequential\"</span>\n",
       "</pre>\n"
      ],
      "text/plain": [
       "\u001b[1mModel: \"sequential\"\u001b[0m\n"
      ]
     },
     "metadata": {},
     "output_type": "display_data"
    },
    {
     "data": {
      "text/html": [
       "<pre style=\"white-space:pre;overflow-x:auto;line-height:normal;font-family:Menlo,'DejaVu Sans Mono',consolas,'Courier New',monospace\">┏━━━━━━━━━━━━━━━━━━━━━━━━━━━━━━━━━┳━━━━━━━━━━━━━━━━━━━━━━━━┳━━━━━━━━━━━━━━━┓\n",
       "┃<span style=\"font-weight: bold\"> Layer (type)                    </span>┃<span style=\"font-weight: bold\"> Output Shape           </span>┃<span style=\"font-weight: bold\">       Param # </span>┃\n",
       "┡━━━━━━━━━━━━━━━━━━━━━━━━━━━━━━━━━╇━━━━━━━━━━━━━━━━━━━━━━━━╇━━━━━━━━━━━━━━━┩\n",
       "│ lstm (<span style=\"color: #0087ff; text-decoration-color: #0087ff\">LSTM</span>)                     │ (<span style=\"color: #00d7ff; text-decoration-color: #00d7ff\">None</span>, <span style=\"color: #00af00; text-decoration-color: #00af00\">100</span>, <span style=\"color: #00af00; text-decoration-color: #00af00\">50</span>)        │        <span style=\"color: #00af00; text-decoration-color: #00af00\">10,400</span> │\n",
       "├─────────────────────────────────┼────────────────────────┼───────────────┤\n",
       "│ dropout (<span style=\"color: #0087ff; text-decoration-color: #0087ff\">Dropout</span>)               │ (<span style=\"color: #00d7ff; text-decoration-color: #00d7ff\">None</span>, <span style=\"color: #00af00; text-decoration-color: #00af00\">100</span>, <span style=\"color: #00af00; text-decoration-color: #00af00\">50</span>)        │             <span style=\"color: #00af00; text-decoration-color: #00af00\">0</span> │\n",
       "├─────────────────────────────────┼────────────────────────┼───────────────┤\n",
       "│ lstm_1 (<span style=\"color: #0087ff; text-decoration-color: #0087ff\">LSTM</span>)                   │ (<span style=\"color: #00d7ff; text-decoration-color: #00d7ff\">None</span>, <span style=\"color: #00af00; text-decoration-color: #00af00\">100</span>, <span style=\"color: #00af00; text-decoration-color: #00af00\">60</span>)        │        <span style=\"color: #00af00; text-decoration-color: #00af00\">26,640</span> │\n",
       "├─────────────────────────────────┼────────────────────────┼───────────────┤\n",
       "│ dropout_1 (<span style=\"color: #0087ff; text-decoration-color: #0087ff\">Dropout</span>)             │ (<span style=\"color: #00d7ff; text-decoration-color: #00d7ff\">None</span>, <span style=\"color: #00af00; text-decoration-color: #00af00\">100</span>, <span style=\"color: #00af00; text-decoration-color: #00af00\">60</span>)        │             <span style=\"color: #00af00; text-decoration-color: #00af00\">0</span> │\n",
       "├─────────────────────────────────┼────────────────────────┼───────────────┤\n",
       "│ lstm_2 (<span style=\"color: #0087ff; text-decoration-color: #0087ff\">LSTM</span>)                   │ (<span style=\"color: #00d7ff; text-decoration-color: #00d7ff\">None</span>, <span style=\"color: #00af00; text-decoration-color: #00af00\">100</span>, <span style=\"color: #00af00; text-decoration-color: #00af00\">80</span>)        │        <span style=\"color: #00af00; text-decoration-color: #00af00\">45,120</span> │\n",
       "├─────────────────────────────────┼────────────────────────┼───────────────┤\n",
       "│ dropout_2 (<span style=\"color: #0087ff; text-decoration-color: #0087ff\">Dropout</span>)             │ (<span style=\"color: #00d7ff; text-decoration-color: #00d7ff\">None</span>, <span style=\"color: #00af00; text-decoration-color: #00af00\">100</span>, <span style=\"color: #00af00; text-decoration-color: #00af00\">80</span>)        │             <span style=\"color: #00af00; text-decoration-color: #00af00\">0</span> │\n",
       "├─────────────────────────────────┼────────────────────────┼───────────────┤\n",
       "│ lstm_3 (<span style=\"color: #0087ff; text-decoration-color: #0087ff\">LSTM</span>)                   │ (<span style=\"color: #00d7ff; text-decoration-color: #00d7ff\">None</span>, <span style=\"color: #00af00; text-decoration-color: #00af00\">120</span>)            │        <span style=\"color: #00af00; text-decoration-color: #00af00\">96,480</span> │\n",
       "├─────────────────────────────────┼────────────────────────┼───────────────┤\n",
       "│ dropout_3 (<span style=\"color: #0087ff; text-decoration-color: #0087ff\">Dropout</span>)             │ (<span style=\"color: #00d7ff; text-decoration-color: #00d7ff\">None</span>, <span style=\"color: #00af00; text-decoration-color: #00af00\">120</span>)            │             <span style=\"color: #00af00; text-decoration-color: #00af00\">0</span> │\n",
       "├─────────────────────────────────┼────────────────────────┼───────────────┤\n",
       "│ dense (<span style=\"color: #0087ff; text-decoration-color: #0087ff\">Dense</span>)                   │ (<span style=\"color: #00d7ff; text-decoration-color: #00d7ff\">None</span>, <span style=\"color: #00af00; text-decoration-color: #00af00\">1</span>)              │           <span style=\"color: #00af00; text-decoration-color: #00af00\">121</span> │\n",
       "└─────────────────────────────────┴────────────────────────┴───────────────┘\n",
       "</pre>\n"
      ],
      "text/plain": [
       "┏━━━━━━━━━━━━━━━━━━━━━━━━━━━━━━━━━┳━━━━━━━━━━━━━━━━━━━━━━━━┳━━━━━━━━━━━━━━━┓\n",
       "┃\u001b[1m \u001b[0m\u001b[1mLayer (type)                   \u001b[0m\u001b[1m \u001b[0m┃\u001b[1m \u001b[0m\u001b[1mOutput Shape          \u001b[0m\u001b[1m \u001b[0m┃\u001b[1m \u001b[0m\u001b[1m      Param #\u001b[0m\u001b[1m \u001b[0m┃\n",
       "┡━━━━━━━━━━━━━━━━━━━━━━━━━━━━━━━━━╇━━━━━━━━━━━━━━━━━━━━━━━━╇━━━━━━━━━━━━━━━┩\n",
       "│ lstm (\u001b[38;5;33mLSTM\u001b[0m)                     │ (\u001b[38;5;45mNone\u001b[0m, \u001b[38;5;34m100\u001b[0m, \u001b[38;5;34m50\u001b[0m)        │        \u001b[38;5;34m10,400\u001b[0m │\n",
       "├─────────────────────────────────┼────────────────────────┼───────────────┤\n",
       "│ dropout (\u001b[38;5;33mDropout\u001b[0m)               │ (\u001b[38;5;45mNone\u001b[0m, \u001b[38;5;34m100\u001b[0m, \u001b[38;5;34m50\u001b[0m)        │             \u001b[38;5;34m0\u001b[0m │\n",
       "├─────────────────────────────────┼────────────────────────┼───────────────┤\n",
       "│ lstm_1 (\u001b[38;5;33mLSTM\u001b[0m)                   │ (\u001b[38;5;45mNone\u001b[0m, \u001b[38;5;34m100\u001b[0m, \u001b[38;5;34m60\u001b[0m)        │        \u001b[38;5;34m26,640\u001b[0m │\n",
       "├─────────────────────────────────┼────────────────────────┼───────────────┤\n",
       "│ dropout_1 (\u001b[38;5;33mDropout\u001b[0m)             │ (\u001b[38;5;45mNone\u001b[0m, \u001b[38;5;34m100\u001b[0m, \u001b[38;5;34m60\u001b[0m)        │             \u001b[38;5;34m0\u001b[0m │\n",
       "├─────────────────────────────────┼────────────────────────┼───────────────┤\n",
       "│ lstm_2 (\u001b[38;5;33mLSTM\u001b[0m)                   │ (\u001b[38;5;45mNone\u001b[0m, \u001b[38;5;34m100\u001b[0m, \u001b[38;5;34m80\u001b[0m)        │        \u001b[38;5;34m45,120\u001b[0m │\n",
       "├─────────────────────────────────┼────────────────────────┼───────────────┤\n",
       "│ dropout_2 (\u001b[38;5;33mDropout\u001b[0m)             │ (\u001b[38;5;45mNone\u001b[0m, \u001b[38;5;34m100\u001b[0m, \u001b[38;5;34m80\u001b[0m)        │             \u001b[38;5;34m0\u001b[0m │\n",
       "├─────────────────────────────────┼────────────────────────┼───────────────┤\n",
       "│ lstm_3 (\u001b[38;5;33mLSTM\u001b[0m)                   │ (\u001b[38;5;45mNone\u001b[0m, \u001b[38;5;34m120\u001b[0m)            │        \u001b[38;5;34m96,480\u001b[0m │\n",
       "├─────────────────────────────────┼────────────────────────┼───────────────┤\n",
       "│ dropout_3 (\u001b[38;5;33mDropout\u001b[0m)             │ (\u001b[38;5;45mNone\u001b[0m, \u001b[38;5;34m120\u001b[0m)            │             \u001b[38;5;34m0\u001b[0m │\n",
       "├─────────────────────────────────┼────────────────────────┼───────────────┤\n",
       "│ dense (\u001b[38;5;33mDense\u001b[0m)                   │ (\u001b[38;5;45mNone\u001b[0m, \u001b[38;5;34m1\u001b[0m)              │           \u001b[38;5;34m121\u001b[0m │\n",
       "└─────────────────────────────────┴────────────────────────┴───────────────┘\n"
      ]
     },
     "metadata": {},
     "output_type": "display_data"
    },
    {
     "data": {
      "text/html": [
       "<pre style=\"white-space:pre;overflow-x:auto;line-height:normal;font-family:Menlo,'DejaVu Sans Mono',consolas,'Courier New',monospace\"><span style=\"font-weight: bold\"> Total params: </span><span style=\"color: #00af00; text-decoration-color: #00af00\">178,761</span> (698.29 KB)\n",
       "</pre>\n"
      ],
      "text/plain": [
       "\u001b[1m Total params: \u001b[0m\u001b[38;5;34m178,761\u001b[0m (698.29 KB)\n"
      ]
     },
     "metadata": {},
     "output_type": "display_data"
    },
    {
     "data": {
      "text/html": [
       "<pre style=\"white-space:pre;overflow-x:auto;line-height:normal;font-family:Menlo,'DejaVu Sans Mono',consolas,'Courier New',monospace\"><span style=\"font-weight: bold\"> Trainable params: </span><span style=\"color: #00af00; text-decoration-color: #00af00\">178,761</span> (698.29 KB)\n",
       "</pre>\n"
      ],
      "text/plain": [
       "\u001b[1m Trainable params: \u001b[0m\u001b[38;5;34m178,761\u001b[0m (698.29 KB)\n"
      ]
     },
     "metadata": {},
     "output_type": "display_data"
    },
    {
     "data": {
      "text/html": [
       "<pre style=\"white-space:pre;overflow-x:auto;line-height:normal;font-family:Menlo,'DejaVu Sans Mono',consolas,'Courier New',monospace\"><span style=\"font-weight: bold\"> Non-trainable params: </span><span style=\"color: #00af00; text-decoration-color: #00af00\">0</span> (0.00 B)\n",
       "</pre>\n"
      ],
      "text/plain": [
       "\u001b[1m Non-trainable params: \u001b[0m\u001b[38;5;34m0\u001b[0m (0.00 B)\n"
      ]
     },
     "metadata": {},
     "output_type": "display_data"
    }
   ],
   "source": [
    "model.summary()"
   ]
  },
  {
   "cell_type": "markdown",
   "id": "KgEnUfCnn_1r",
   "metadata": {
    "id": "KgEnUfCnn_1r"
   },
   "source": [
    "# Training the model\n",
    "\n",
    "---\n",
    "\n"
   ]
  },
  {
   "cell_type": "code",
   "execution_count": 180,
   "id": "1d0c9b64",
   "metadata": {
    "colab": {
     "base_uri": "https://localhost:8080/"
    },
    "execution": {
     "iopub.execute_input": "2025-09-01T09:10:21.019103Z",
     "iopub.status.busy": "2025-09-01T09:10:21.017950Z",
     "iopub.status.idle": "2025-09-01T09:31:35.613740Z",
     "shell.execute_reply": "2025-09-01T09:31:35.613090Z",
     "shell.execute_reply.started": "2025-09-01T09:10:21.019031Z"
    },
    "id": "1d0c9b64",
    "outputId": "8014670b-4fcf-4fe9-d60a-786b45c8b88c"
   },
   "outputs": [
    {
     "name": "stdout",
     "output_type": "stream",
     "text": [
      "Epoch 1/100\n",
      "\u001b[1m100/100\u001b[0m \u001b[32m━━━━━━━━━━━━━━━━━━━━\u001b[0m\u001b[37m\u001b[0m \u001b[1m14s\u001b[0m 121ms/step - loss: 0.0164 - mean_absolute_error: 0.0776\n",
      "Epoch 2/100\n",
      "\u001b[1m100/100\u001b[0m \u001b[32m━━━━━━━━━━━━━━━━━━━━\u001b[0m\u001b[37m\u001b[0m \u001b[1m12s\u001b[0m 118ms/step - loss: 0.0030 - mean_absolute_error: 0.0309\n",
      "Epoch 3/100\n",
      "\u001b[1m100/100\u001b[0m \u001b[32m━━━━━━━━━━━━━━━━━━━━\u001b[0m\u001b[37m\u001b[0m \u001b[1m12s\u001b[0m 120ms/step - loss: 0.0032 - mean_absolute_error: 0.0319\n",
      "Epoch 4/100\n",
      "\u001b[1m100/100\u001b[0m \u001b[32m━━━━━━━━━━━━━━━━━━━━\u001b[0m\u001b[37m\u001b[0m \u001b[1m12s\u001b[0m 120ms/step - loss: 0.0025 - mean_absolute_error: 0.0296\n",
      "Epoch 5/100\n",
      "\u001b[1m100/100\u001b[0m \u001b[32m━━━━━━━━━━━━━━━━━━━━\u001b[0m\u001b[37m\u001b[0m \u001b[1m12s\u001b[0m 120ms/step - loss: 0.0023 - mean_absolute_error: 0.0273\n",
      "Epoch 6/100\n",
      "\u001b[1m100/100\u001b[0m \u001b[32m━━━━━━━━━━━━━━━━━━━━\u001b[0m\u001b[37m\u001b[0m \u001b[1m12s\u001b[0m 116ms/step - loss: 0.0021 - mean_absolute_error: 0.0274\n",
      "Epoch 7/100\n",
      "\u001b[1m100/100\u001b[0m \u001b[32m━━━━━━━━━━━━━━━━━━━━\u001b[0m\u001b[37m\u001b[0m \u001b[1m12s\u001b[0m 118ms/step - loss: 0.0022 - mean_absolute_error: 0.0265\n",
      "Epoch 8/100\n",
      "\u001b[1m100/100\u001b[0m \u001b[32m━━━━━━━━━━━━━━━━━━━━\u001b[0m\u001b[37m\u001b[0m \u001b[1m12s\u001b[0m 119ms/step - loss: 0.0021 - mean_absolute_error: 0.0267\n",
      "Epoch 9/100\n",
      "\u001b[1m100/100\u001b[0m \u001b[32m━━━━━━━━━━━━━━━━━━━━\u001b[0m\u001b[37m\u001b[0m \u001b[1m12s\u001b[0m 119ms/step - loss: 0.0023 - mean_absolute_error: 0.0289\n",
      "Epoch 10/100\n",
      "\u001b[1m100/100\u001b[0m \u001b[32m━━━━━━━━━━━━━━━━━━━━\u001b[0m\u001b[37m\u001b[0m \u001b[1m12s\u001b[0m 119ms/step - loss: 0.0021 - mean_absolute_error: 0.0258\n",
      "Epoch 11/100\n",
      "\u001b[1m100/100\u001b[0m \u001b[32m━━━━━━━━━━━━━━━━━━━━\u001b[0m\u001b[37m\u001b[0m \u001b[1m12s\u001b[0m 120ms/step - loss: 0.0021 - mean_absolute_error: 0.0270\n",
      "Epoch 12/100\n",
      "\u001b[1m100/100\u001b[0m \u001b[32m━━━━━━━━━━━━━━━━━━━━\u001b[0m\u001b[37m\u001b[0m \u001b[1m12s\u001b[0m 119ms/step - loss: 0.0017 - mean_absolute_error: 0.0243\n",
      "Epoch 13/100\n",
      "\u001b[1m100/100\u001b[0m \u001b[32m━━━━━━━━━━━━━━━━━━━━\u001b[0m\u001b[37m\u001b[0m \u001b[1m12s\u001b[0m 124ms/step - loss: 0.0015 - mean_absolute_error: 0.0242\n",
      "Epoch 14/100\n",
      "\u001b[1m100/100\u001b[0m \u001b[32m━━━━━━━━━━━━━━━━━━━━\u001b[0m\u001b[37m\u001b[0m \u001b[1m13s\u001b[0m 126ms/step - loss: 0.0017 - mean_absolute_error: 0.0254\n",
      "Epoch 15/100\n",
      "\u001b[1m100/100\u001b[0m \u001b[32m━━━━━━━━━━━━━━━━━━━━\u001b[0m\u001b[37m\u001b[0m \u001b[1m12s\u001b[0m 123ms/step - loss: 0.0015 - mean_absolute_error: 0.0241\n",
      "Epoch 16/100\n",
      "\u001b[1m100/100\u001b[0m \u001b[32m━━━━━━━━━━━━━━━━━━━━\u001b[0m\u001b[37m\u001b[0m \u001b[1m13s\u001b[0m 126ms/step - loss: 0.0016 - mean_absolute_error: 0.0250\n",
      "Epoch 17/100\n",
      "\u001b[1m100/100\u001b[0m \u001b[32m━━━━━━━━━━━━━━━━━━━━\u001b[0m\u001b[37m\u001b[0m \u001b[1m12s\u001b[0m 123ms/step - loss: 0.0015 - mean_absolute_error: 0.0247\n",
      "Epoch 18/100\n",
      "\u001b[1m100/100\u001b[0m \u001b[32m━━━━━━━━━━━━━━━━━━━━\u001b[0m\u001b[37m\u001b[0m \u001b[1m12s\u001b[0m 123ms/step - loss: 0.0016 - mean_absolute_error: 0.0254\n",
      "Epoch 19/100\n",
      "\u001b[1m100/100\u001b[0m \u001b[32m━━━━━━━━━━━━━━━━━━━━\u001b[0m\u001b[37m\u001b[0m \u001b[1m12s\u001b[0m 121ms/step - loss: 0.0015 - mean_absolute_error: 0.0235\n",
      "Epoch 20/100\n",
      "\u001b[1m100/100\u001b[0m \u001b[32m━━━━━━━━━━━━━━━━━━━━\u001b[0m\u001b[37m\u001b[0m \u001b[1m12s\u001b[0m 122ms/step - loss: 0.0014 - mean_absolute_error: 0.0244\n",
      "Epoch 21/100\n",
      "\u001b[1m100/100\u001b[0m \u001b[32m━━━━━━━━━━━━━━━━━━━━\u001b[0m\u001b[37m\u001b[0m \u001b[1m12s\u001b[0m 121ms/step - loss: 0.0015 - mean_absolute_error: 0.0252\n",
      "Epoch 22/100\n",
      "\u001b[1m100/100\u001b[0m \u001b[32m━━━━━━━━━━━━━━━━━━━━\u001b[0m\u001b[37m\u001b[0m \u001b[1m12s\u001b[0m 124ms/step - loss: 0.0015 - mean_absolute_error: 0.0249\n",
      "Epoch 23/100\n",
      "\u001b[1m100/100\u001b[0m \u001b[32m━━━━━━━━━━━━━━━━━━━━\u001b[0m\u001b[37m\u001b[0m \u001b[1m12s\u001b[0m 123ms/step - loss: 0.0017 - mean_absolute_error: 0.0263\n",
      "Epoch 24/100\n",
      "\u001b[1m100/100\u001b[0m \u001b[32m━━━━━━━━━━━━━━━━━━━━\u001b[0m\u001b[37m\u001b[0m \u001b[1m12s\u001b[0m 122ms/step - loss: 0.0012 - mean_absolute_error: 0.0231\n",
      "Epoch 25/100\n",
      "\u001b[1m100/100\u001b[0m \u001b[32m━━━━━━━━━━━━━━━━━━━━\u001b[0m\u001b[37m\u001b[0m \u001b[1m12s\u001b[0m 123ms/step - loss: 0.0017 - mean_absolute_error: 0.0265\n",
      "Epoch 26/100\n",
      "\u001b[1m100/100\u001b[0m \u001b[32m━━━━━━━━━━━━━━━━━━━━\u001b[0m\u001b[37m\u001b[0m \u001b[1m12s\u001b[0m 123ms/step - loss: 0.0013 - mean_absolute_error: 0.0247\n",
      "Epoch 27/100\n",
      "\u001b[1m100/100\u001b[0m \u001b[32m━━━━━━━━━━━━━━━━━━━━\u001b[0m\u001b[37m\u001b[0m \u001b[1m12s\u001b[0m 123ms/step - loss: 0.0015 - mean_absolute_error: 0.0255\n",
      "Epoch 28/100\n",
      "\u001b[1m100/100\u001b[0m \u001b[32m━━━━━━━━━━━━━━━━━━━━\u001b[0m\u001b[37m\u001b[0m \u001b[1m12s\u001b[0m 123ms/step - loss: 0.0017 - mean_absolute_error: 0.0252\n",
      "Epoch 29/100\n",
      "\u001b[1m100/100\u001b[0m \u001b[32m━━━━━━━━━━━━━━━━━━━━\u001b[0m\u001b[37m\u001b[0m \u001b[1m13s\u001b[0m 126ms/step - loss: 0.0013 - mean_absolute_error: 0.0243\n",
      "Epoch 30/100\n",
      "\u001b[1m100/100\u001b[0m \u001b[32m━━━━━━━━━━━━━━━━━━━━\u001b[0m\u001b[37m\u001b[0m \u001b[1m13s\u001b[0m 125ms/step - loss: 0.0011 - mean_absolute_error: 0.0225\n",
      "Epoch 31/100\n",
      "\u001b[1m100/100\u001b[0m \u001b[32m━━━━━━━━━━━━━━━━━━━━\u001b[0m\u001b[37m\u001b[0m \u001b[1m13s\u001b[0m 125ms/step - loss: 0.0014 - mean_absolute_error: 0.0251\n",
      "Epoch 32/100\n",
      "\u001b[1m100/100\u001b[0m \u001b[32m━━━━━━━━━━━━━━━━━━━━\u001b[0m\u001b[37m\u001b[0m \u001b[1m13s\u001b[0m 128ms/step - loss: 0.0013 - mean_absolute_error: 0.0239\n",
      "Epoch 33/100\n",
      "\u001b[1m100/100\u001b[0m \u001b[32m━━━━━━━━━━━━━━━━━━━━\u001b[0m\u001b[37m\u001b[0m \u001b[1m13s\u001b[0m 125ms/step - loss: 0.0013 - mean_absolute_error: 0.0237\n",
      "Epoch 34/100\n",
      "\u001b[1m100/100\u001b[0m \u001b[32m━━━━━━━━━━━━━━━━━━━━\u001b[0m\u001b[37m\u001b[0m \u001b[1m13s\u001b[0m 126ms/step - loss: 0.0014 - mean_absolute_error: 0.0252\n",
      "Epoch 35/100\n",
      "\u001b[1m100/100\u001b[0m \u001b[32m━━━━━━━━━━━━━━━━━━━━\u001b[0m\u001b[37m\u001b[0m \u001b[1m13s\u001b[0m 134ms/step - loss: 0.0014 - mean_absolute_error: 0.0254\n",
      "Epoch 36/100\n",
      "\u001b[1m100/100\u001b[0m \u001b[32m━━━━━━━━━━━━━━━━━━━━\u001b[0m\u001b[37m\u001b[0m \u001b[1m12s\u001b[0m 125ms/step - loss: 0.0012 - mean_absolute_error: 0.0231\n",
      "Epoch 37/100\n",
      "\u001b[1m100/100\u001b[0m \u001b[32m━━━━━━━━━━━━━━━━━━━━\u001b[0m\u001b[37m\u001b[0m \u001b[1m12s\u001b[0m 124ms/step - loss: 0.0013 - mean_absolute_error: 0.0231\n",
      "Epoch 38/100\n",
      "\u001b[1m100/100\u001b[0m \u001b[32m━━━━━━━━━━━━━━━━━━━━\u001b[0m\u001b[37m\u001b[0m \u001b[1m13s\u001b[0m 132ms/step - loss: 0.0012 - mean_absolute_error: 0.0234\n",
      "Epoch 39/100\n",
      "\u001b[1m100/100\u001b[0m \u001b[32m━━━━━━━━━━━━━━━━━━━━\u001b[0m\u001b[37m\u001b[0m \u001b[1m14s\u001b[0m 143ms/step - loss: 0.0011 - mean_absolute_error: 0.0230\n",
      "Epoch 40/100\n",
      "\u001b[1m100/100\u001b[0m \u001b[32m━━━━━━━━━━━━━━━━━━━━\u001b[0m\u001b[37m\u001b[0m \u001b[1m14s\u001b[0m 137ms/step - loss: 0.0012 - mean_absolute_error: 0.0222\n",
      "Epoch 41/100\n",
      "\u001b[1m100/100\u001b[0m \u001b[32m━━━━━━━━━━━━━━━━━━━━\u001b[0m\u001b[37m\u001b[0m \u001b[1m13s\u001b[0m 130ms/step - loss: 0.0012 - mean_absolute_error: 0.0230\n",
      "Epoch 42/100\n",
      "\u001b[1m100/100\u001b[0m \u001b[32m━━━━━━━━━━━━━━━━━━━━\u001b[0m\u001b[37m\u001b[0m \u001b[1m13s\u001b[0m 129ms/step - loss: 0.0012 - mean_absolute_error: 0.0234\n",
      "Epoch 43/100\n",
      "\u001b[1m100/100\u001b[0m \u001b[32m━━━━━━━━━━━━━━━━━━━━\u001b[0m\u001b[37m\u001b[0m \u001b[1m13s\u001b[0m 126ms/step - loss: 0.0014 - mean_absolute_error: 0.0234\n",
      "Epoch 44/100\n",
      "\u001b[1m100/100\u001b[0m \u001b[32m━━━━━━━━━━━━━━━━━━━━\u001b[0m\u001b[37m\u001b[0m \u001b[1m13s\u001b[0m 129ms/step - loss: 0.0012 - mean_absolute_error: 0.0235\n",
      "Epoch 45/100\n",
      "\u001b[1m100/100\u001b[0m \u001b[32m━━━━━━━━━━━━━━━━━━━━\u001b[0m\u001b[37m\u001b[0m \u001b[1m13s\u001b[0m 126ms/step - loss: 0.0012 - mean_absolute_error: 0.0238\n",
      "Epoch 46/100\n",
      "\u001b[1m100/100\u001b[0m \u001b[32m━━━━━━━━━━━━━━━━━━━━\u001b[0m\u001b[37m\u001b[0m \u001b[1m12s\u001b[0m 123ms/step - loss: 0.0013 - mean_absolute_error: 0.0234\n",
      "Epoch 47/100\n",
      "\u001b[1m100/100\u001b[0m \u001b[32m━━━━━━━━━━━━━━━━━━━━\u001b[0m\u001b[37m\u001b[0m \u001b[1m13s\u001b[0m 130ms/step - loss: 0.0013 - mean_absolute_error: 0.0240\n",
      "Epoch 48/100\n",
      "\u001b[1m100/100\u001b[0m \u001b[32m━━━━━━━━━━━━━━━━━━━━\u001b[0m\u001b[37m\u001b[0m \u001b[1m13s\u001b[0m 134ms/step - loss: 0.0014 - mean_absolute_error: 0.0232\n",
      "Epoch 49/100\n",
      "\u001b[1m100/100\u001b[0m \u001b[32m━━━━━━━━━━━━━━━━━━━━\u001b[0m\u001b[37m\u001b[0m \u001b[1m14s\u001b[0m 140ms/step - loss: 0.0011 - mean_absolute_error: 0.0220\n",
      "Epoch 50/100\n",
      "\u001b[1m100/100\u001b[0m \u001b[32m━━━━━━━━━━━━━━━━━━━━\u001b[0m\u001b[37m\u001b[0m \u001b[1m14s\u001b[0m 138ms/step - loss: 0.0012 - mean_absolute_error: 0.0232\n",
      "Epoch 51/100\n",
      "\u001b[1m100/100\u001b[0m \u001b[32m━━━━━━━━━━━━━━━━━━━━\u001b[0m\u001b[37m\u001b[0m \u001b[1m14s\u001b[0m 143ms/step - loss: 0.0012 - mean_absolute_error: 0.0237\n",
      "Epoch 52/100\n",
      "\u001b[1m100/100\u001b[0m \u001b[32m━━━━━━━━━━━━━━━━━━━━\u001b[0m\u001b[37m\u001b[0m \u001b[1m14s\u001b[0m 137ms/step - loss: 0.0013 - mean_absolute_error: 0.0238\n",
      "Epoch 53/100\n",
      "\u001b[1m100/100\u001b[0m \u001b[32m━━━━━━━━━━━━━━━━━━━━\u001b[0m\u001b[37m\u001b[0m \u001b[1m13s\u001b[0m 132ms/step - loss: 0.0011 - mean_absolute_error: 0.0225\n",
      "Epoch 54/100\n",
      "\u001b[1m100/100\u001b[0m \u001b[32m━━━━━━━━━━━━━━━━━━━━\u001b[0m\u001b[37m\u001b[0m \u001b[1m13s\u001b[0m 127ms/step - loss: 0.0011 - mean_absolute_error: 0.0226\n",
      "Epoch 55/100\n",
      "\u001b[1m100/100\u001b[0m \u001b[32m━━━━━━━━━━━━━━━━━━━━\u001b[0m\u001b[37m\u001b[0m \u001b[1m12s\u001b[0m 120ms/step - loss: 0.0013 - mean_absolute_error: 0.0250\n",
      "Epoch 56/100\n",
      "\u001b[1m100/100\u001b[0m \u001b[32m━━━━━━━━━━━━━━━━━━━━\u001b[0m\u001b[37m\u001b[0m \u001b[1m13s\u001b[0m 131ms/step - loss: 0.0012 - mean_absolute_error: 0.0237\n",
      "Epoch 57/100\n",
      "\u001b[1m100/100\u001b[0m \u001b[32m━━━━━━━━━━━━━━━━━━━━\u001b[0m\u001b[37m\u001b[0m \u001b[1m14s\u001b[0m 136ms/step - loss: 0.0011 - mean_absolute_error: 0.0220\n",
      "Epoch 58/100\n",
      "\u001b[1m100/100\u001b[0m \u001b[32m━━━━━━━━━━━━━━━━━━━━\u001b[0m\u001b[37m\u001b[0m \u001b[1m13s\u001b[0m 127ms/step - loss: 0.0014 - mean_absolute_error: 0.0242\n",
      "Epoch 59/100\n",
      "\u001b[1m100/100\u001b[0m \u001b[32m━━━━━━━━━━━━━━━━━━━━\u001b[0m\u001b[37m\u001b[0m \u001b[1m14s\u001b[0m 142ms/step - loss: 0.0011 - mean_absolute_error: 0.0222\n",
      "Epoch 60/100\n",
      "\u001b[1m100/100\u001b[0m \u001b[32m━━━━━━━━━━━━━━━━━━━━\u001b[0m\u001b[37m\u001b[0m \u001b[1m14s\u001b[0m 141ms/step - loss: 0.0011 - mean_absolute_error: 0.0218\n",
      "Epoch 61/100\n",
      "\u001b[1m100/100\u001b[0m \u001b[32m━━━━━━━━━━━━━━━━━━━━\u001b[0m\u001b[37m\u001b[0m \u001b[1m13s\u001b[0m 130ms/step - loss: 0.0010 - mean_absolute_error: 0.0216\n",
      "Epoch 62/100\n",
      "\u001b[1m100/100\u001b[0m \u001b[32m━━━━━━━━━━━━━━━━━━━━\u001b[0m\u001b[37m\u001b[0m \u001b[1m13s\u001b[0m 129ms/step - loss: 0.0011 - mean_absolute_error: 0.0228\n",
      "Epoch 63/100\n",
      "\u001b[1m100/100\u001b[0m \u001b[32m━━━━━━━━━━━━━━━━━━━━\u001b[0m\u001b[37m\u001b[0m \u001b[1m13s\u001b[0m 127ms/step - loss: 0.0013 - mean_absolute_error: 0.0237\n",
      "Epoch 64/100\n",
      "\u001b[1m100/100\u001b[0m \u001b[32m━━━━━━━━━━━━━━━━━━━━\u001b[0m\u001b[37m\u001b[0m \u001b[1m13s\u001b[0m 132ms/step - loss: 0.0014 - mean_absolute_error: 0.0235\n",
      "Epoch 65/100\n",
      "\u001b[1m100/100\u001b[0m \u001b[32m━━━━━━━━━━━━━━━━━━━━\u001b[0m\u001b[37m\u001b[0m \u001b[1m13s\u001b[0m 125ms/step - loss: 0.0010 - mean_absolute_error: 0.0214\n",
      "Epoch 66/100\n",
      "\u001b[1m100/100\u001b[0m \u001b[32m━━━━━━━━━━━━━━━━━━━━\u001b[0m\u001b[37m\u001b[0m \u001b[1m13s\u001b[0m 131ms/step - loss: 0.0010 - mean_absolute_error: 0.0221\n",
      "Epoch 67/100\n",
      "\u001b[1m100/100\u001b[0m \u001b[32m━━━━━━━━━━━━━━━━━━━━\u001b[0m\u001b[37m\u001b[0m \u001b[1m13s\u001b[0m 132ms/step - loss: 0.0012 - mean_absolute_error: 0.0231\n",
      "Epoch 68/100\n",
      "\u001b[1m100/100\u001b[0m \u001b[32m━━━━━━━━━━━━━━━━━━━━\u001b[0m\u001b[37m\u001b[0m \u001b[1m12s\u001b[0m 124ms/step - loss: 0.0012 - mean_absolute_error: 0.0232\n",
      "Epoch 69/100\n",
      "\u001b[1m100/100\u001b[0m \u001b[32m━━━━━━━━━━━━━━━━━━━━\u001b[0m\u001b[37m\u001b[0m \u001b[1m12s\u001b[0m 118ms/step - loss: 0.0011 - mean_absolute_error: 0.0222\n",
      "Epoch 70/100\n",
      "\u001b[1m100/100\u001b[0m \u001b[32m━━━━━━━━━━━━━━━━━━━━\u001b[0m\u001b[37m\u001b[0m \u001b[1m12s\u001b[0m 121ms/step - loss: 0.0011 - mean_absolute_error: 0.0228\n",
      "Epoch 71/100\n",
      "\u001b[1m100/100\u001b[0m \u001b[32m━━━━━━━━━━━━━━━━━━━━\u001b[0m\u001b[37m\u001b[0m \u001b[1m12s\u001b[0m 123ms/step - loss: 0.0011 - mean_absolute_error: 0.0231\n",
      "Epoch 72/100\n",
      "\u001b[1m100/100\u001b[0m \u001b[32m━━━━━━━━━━━━━━━━━━━━\u001b[0m\u001b[37m\u001b[0m \u001b[1m12s\u001b[0m 121ms/step - loss: 0.0011 - mean_absolute_error: 0.0224\n",
      "Epoch 73/100\n",
      "\u001b[1m100/100\u001b[0m \u001b[32m━━━━━━━━━━━━━━━━━━━━\u001b[0m\u001b[37m\u001b[0m \u001b[1m12s\u001b[0m 120ms/step - loss: 0.0012 - mean_absolute_error: 0.0229\n",
      "Epoch 74/100\n",
      "\u001b[1m100/100\u001b[0m \u001b[32m━━━━━━━━━━━━━━━━━━━━\u001b[0m\u001b[37m\u001b[0m \u001b[1m12s\u001b[0m 120ms/step - loss: 0.0011 - mean_absolute_error: 0.0223\n",
      "Epoch 75/100\n",
      "\u001b[1m100/100\u001b[0m \u001b[32m━━━━━━━━━━━━━━━━━━━━\u001b[0m\u001b[37m\u001b[0m \u001b[1m12s\u001b[0m 123ms/step - loss: 0.0013 - mean_absolute_error: 0.0223\n",
      "Epoch 76/100\n",
      "\u001b[1m100/100\u001b[0m \u001b[32m━━━━━━━━━━━━━━━━━━━━\u001b[0m\u001b[37m\u001b[0m \u001b[1m12s\u001b[0m 124ms/step - loss: 0.0012 - mean_absolute_error: 0.0233\n",
      "Epoch 77/100\n",
      "\u001b[1m100/100\u001b[0m \u001b[32m━━━━━━━━━━━━━━━━━━━━\u001b[0m\u001b[37m\u001b[0m \u001b[1m12s\u001b[0m 123ms/step - loss: 0.0010 - mean_absolute_error: 0.0214\n",
      "Epoch 78/100\n",
      "\u001b[1m100/100\u001b[0m \u001b[32m━━━━━━━━━━━━━━━━━━━━\u001b[0m\u001b[37m\u001b[0m \u001b[1m12s\u001b[0m 122ms/step - loss: 0.0011 - mean_absolute_error: 0.0219\n",
      "Epoch 79/100\n",
      "\u001b[1m100/100\u001b[0m \u001b[32m━━━━━━━━━━━━━━━━━━━━\u001b[0m\u001b[37m\u001b[0m \u001b[1m12s\u001b[0m 120ms/step - loss: 0.0012 - mean_absolute_error: 0.0223\n",
      "Epoch 80/100\n",
      "\u001b[1m100/100\u001b[0m \u001b[32m━━━━━━━━━━━━━━━━━━━━\u001b[0m\u001b[37m\u001b[0m \u001b[1m12s\u001b[0m 120ms/step - loss: 9.9712e-04 - mean_absolute_error: 0.0217\n",
      "Epoch 81/100\n",
      "\u001b[1m100/100\u001b[0m \u001b[32m━━━━━━━━━━━━━━━━━━━━\u001b[0m\u001b[37m\u001b[0m \u001b[1m12s\u001b[0m 124ms/step - loss: 9.4005e-04 - mean_absolute_error: 0.0212\n",
      "Epoch 82/100\n",
      "\u001b[1m100/100\u001b[0m \u001b[32m━━━━━━━━━━━━━━━━━━━━\u001b[0m\u001b[37m\u001b[0m \u001b[1m12s\u001b[0m 123ms/step - loss: 9.5562e-04 - mean_absolute_error: 0.0213\n",
      "Epoch 83/100\n",
      "\u001b[1m100/100\u001b[0m \u001b[32m━━━━━━━━━━━━━━━━━━━━\u001b[0m\u001b[37m\u001b[0m \u001b[1m13s\u001b[0m 129ms/step - loss: 0.0011 - mean_absolute_error: 0.0217\n",
      "Epoch 84/100\n",
      "\u001b[1m100/100\u001b[0m \u001b[32m━━━━━━━━━━━━━━━━━━━━\u001b[0m\u001b[37m\u001b[0m \u001b[1m13s\u001b[0m 125ms/step - loss: 0.0012 - mean_absolute_error: 0.0233\n",
      "Epoch 85/100\n",
      "\u001b[1m100/100\u001b[0m \u001b[32m━━━━━━━━━━━━━━━━━━━━\u001b[0m\u001b[37m\u001b[0m \u001b[1m13s\u001b[0m 126ms/step - loss: 0.0012 - mean_absolute_error: 0.0234\n",
      "Epoch 86/100\n",
      "\u001b[1m100/100\u001b[0m \u001b[32m━━━━━━━━━━━━━━━━━━━━\u001b[0m\u001b[37m\u001b[0m \u001b[1m13s\u001b[0m 132ms/step - loss: 0.0012 - mean_absolute_error: 0.0233\n",
      "Epoch 87/100\n",
      "\u001b[1m100/100\u001b[0m \u001b[32m━━━━━━━━━━━━━━━━━━━━\u001b[0m\u001b[37m\u001b[0m \u001b[1m14s\u001b[0m 145ms/step - loss: 0.0011 - mean_absolute_error: 0.0232\n",
      "Epoch 88/100\n",
      "\u001b[1m100/100\u001b[0m \u001b[32m━━━━━━━━━━━━━━━━━━━━\u001b[0m\u001b[37m\u001b[0m \u001b[1m16s\u001b[0m 156ms/step - loss: 0.0010 - mean_absolute_error: 0.0230\n",
      "Epoch 89/100\n",
      "\u001b[1m100/100\u001b[0m \u001b[32m━━━━━━━━━━━━━━━━━━━━\u001b[0m\u001b[37m\u001b[0m \u001b[1m14s\u001b[0m 138ms/step - loss: 0.0010 - mean_absolute_error: 0.0219\n",
      "Epoch 90/100\n",
      "\u001b[1m100/100\u001b[0m \u001b[32m━━━━━━━━━━━━━━━━━━━━\u001b[0m\u001b[37m\u001b[0m \u001b[1m13s\u001b[0m 134ms/step - loss: 0.0010 - mean_absolute_error: 0.0215\n",
      "Epoch 91/100\n",
      "\u001b[1m100/100\u001b[0m \u001b[32m━━━━━━━━━━━━━━━━━━━━\u001b[0m\u001b[37m\u001b[0m \u001b[1m13s\u001b[0m 134ms/step - loss: 0.0010 - mean_absolute_error: 0.0212\n",
      "Epoch 92/100\n",
      "\u001b[1m100/100\u001b[0m \u001b[32m━━━━━━━━━━━━━━━━━━━━\u001b[0m\u001b[37m\u001b[0m \u001b[1m13s\u001b[0m 134ms/step - loss: 0.0012 - mean_absolute_error: 0.0228\n",
      "Epoch 93/100\n",
      "\u001b[1m100/100\u001b[0m \u001b[32m━━━━━━━━━━━━━━━━━━━━\u001b[0m\u001b[37m\u001b[0m \u001b[1m14s\u001b[0m 138ms/step - loss: 0.0010 - mean_absolute_error: 0.0217\n",
      "Epoch 94/100\n",
      "\u001b[1m100/100\u001b[0m \u001b[32m━━━━━━━━━━━━━━━━━━━━\u001b[0m\u001b[37m\u001b[0m \u001b[1m14s\u001b[0m 138ms/step - loss: 0.0011 - mean_absolute_error: 0.0222\n",
      "Epoch 95/100\n",
      "\u001b[1m100/100\u001b[0m \u001b[32m━━━━━━━━━━━━━━━━━━━━\u001b[0m\u001b[37m\u001b[0m \u001b[1m13s\u001b[0m 134ms/step - loss: 9.3370e-04 - mean_absolute_error: 0.0212\n",
      "Epoch 96/100\n",
      "\u001b[1m100/100\u001b[0m \u001b[32m━━━━━━━━━━━━━━━━━━━━\u001b[0m\u001b[37m\u001b[0m \u001b[1m14s\u001b[0m 136ms/step - loss: 0.0013 - mean_absolute_error: 0.0235\n",
      "Epoch 97/100\n",
      "\u001b[1m100/100\u001b[0m \u001b[32m━━━━━━━━━━━━━━━━━━━━\u001b[0m\u001b[37m\u001b[0m \u001b[1m13s\u001b[0m 127ms/step - loss: 0.0011 - mean_absolute_error: 0.0230\n",
      "Epoch 98/100\n",
      "\u001b[1m100/100\u001b[0m \u001b[32m━━━━━━━━━━━━━━━━━━━━\u001b[0m\u001b[37m\u001b[0m \u001b[1m12s\u001b[0m 124ms/step - loss: 0.0011 - mean_absolute_error: 0.0221\n",
      "Epoch 99/100\n",
      "\u001b[1m100/100\u001b[0m \u001b[32m━━━━━━━━━━━━━━━━━━━━\u001b[0m\u001b[37m\u001b[0m \u001b[1m12s\u001b[0m 123ms/step - loss: 0.0010 - mean_absolute_error: 0.0217\n",
      "Epoch 100/100\n",
      "\u001b[1m100/100\u001b[0m \u001b[32m━━━━━━━━━━━━━━━━━━━━\u001b[0m\u001b[37m\u001b[0m \u001b[1m12s\u001b[0m 122ms/step - loss: 9.0333e-04 - mean_absolute_error: 0.0205\n"
     ]
    },
    {
     "data": {
      "text/plain": [
       "<keras.src.callbacks.history.History at 0x31d61b460>"
      ]
     },
     "execution_count": 180,
     "metadata": {},
     "output_type": "execute_result"
    }
   ],
   "source": [
    "import tensorflow as tf\n",
    "model.compile(optimizer = 'adam', loss = 'mean_squared_error', metrics=[tf.keras.metrics.MeanAbsoluteError()])\n",
    "model.fit(x_train, y_train,epochs = 100)"
   ]
  },
  {
   "cell_type": "code",
   "execution_count": 182,
   "id": "zG1W6DhzI-hP",
   "metadata": {
    "execution": {
     "iopub.execute_input": "2025-09-01T09:32:24.523873Z",
     "iopub.status.busy": "2025-09-01T09:32:24.522766Z",
     "iopub.status.idle": "2025-09-01T09:32:24.578650Z",
     "shell.execute_reply": "2025-09-01T09:32:24.578149Z",
     "shell.execute_reply.started": "2025-09-01T09:32:24.523805Z"
    },
    "id": "zG1W6DhzI-hP"
   },
   "outputs": [
    {
     "name": "stderr",
     "output_type": "stream",
     "text": [
      "WARNING:absl:You are saving your model as an HDF5 file via `model.save()` or `keras.saving.save_model(model)`. This file format is considered legacy. We recommend using instead the native Keras format, e.g. `model.save('my_model.keras')` or `keras.saving.save_model(model, 'my_model.keras')`. \n"
     ]
    }
   ],
   "source": [
    "model.save('keras_model_btc_daily.h5')"
   ]
  },
  {
   "cell_type": "code",
   "execution_count": 184,
   "id": "khcKI1sSJSJB",
   "metadata": {
    "colab": {
     "base_uri": "https://localhost:8080/"
    },
    "execution": {
     "iopub.execute_input": "2025-09-01T09:32:43.603129Z",
     "iopub.status.busy": "2025-09-01T09:32:43.601720Z",
     "iopub.status.idle": "2025-09-01T09:32:43.615899Z",
     "shell.execute_reply": "2025-09-01T09:32:43.614994Z",
     "shell.execute_reply.started": "2025-09-01T09:32:43.603058Z"
    },
    "id": "khcKI1sSJSJB",
    "outputId": "22c3f1bf-201a-4a60-ec6f-3be005f87ab1"
   },
   "outputs": [
    {
     "data": {
      "text/plain": [
       "(1407, 1)"
      ]
     },
     "execution_count": 184,
     "metadata": {},
     "output_type": "execute_result"
    }
   ],
   "source": [
    "test_close.shape"
   ]
  },
  {
   "cell_type": "code",
   "execution_count": 186,
   "id": "6QyF-7KbKaGt",
   "metadata": {
    "execution": {
     "iopub.execute_input": "2025-09-01T09:32:45.251772Z",
     "iopub.status.busy": "2025-09-01T09:32:45.250946Z",
     "iopub.status.idle": "2025-09-01T09:32:45.261473Z",
     "shell.execute_reply": "2025-09-01T09:32:45.260018Z",
     "shell.execute_reply.started": "2025-09-01T09:32:45.251731Z"
    },
    "id": "6QyF-7KbKaGt"
   },
   "outputs": [],
   "source": [
    "past_100_days = pd.DataFrame(train_close[-100:])"
   ]
  },
  {
   "cell_type": "code",
   "execution_count": 188,
   "id": "pKsjLCyGLuOz",
   "metadata": {
    "execution": {
     "iopub.execute_input": "2025-09-01T09:32:46.518369Z",
     "iopub.status.busy": "2025-09-01T09:32:46.517535Z",
     "iopub.status.idle": "2025-09-01T09:32:46.529227Z",
     "shell.execute_reply": "2025-09-01T09:32:46.527767Z",
     "shell.execute_reply.started": "2025-09-01T09:32:46.518328Z"
    },
    "id": "pKsjLCyGLuOz"
   },
   "outputs": [],
   "source": [
    "test_df = pd.DataFrame(test_close)"
   ]
  },
  {
   "cell_type": "markdown",
   "id": "d9ZKAzB8oKXJ",
   "metadata": {
    "id": "d9ZKAzB8oKXJ"
   },
   "source": [
    "**Defining the final dataset for testing by including last 100 coloums of the training dataset to get the prediction from the 1st column of the testing dataset.**\n",
    "\n",
    "---\n"
   ]
  },
  {
   "cell_type": "code",
   "execution_count": 205,
   "id": "6b603ca7-6390-436e-abd8-f28016ead3d4",
   "metadata": {
    "execution": {
     "iopub.execute_input": "2025-09-01T09:35:50.890187Z",
     "iopub.status.busy": "2025-09-01T09:35:50.888187Z",
     "iopub.status.idle": "2025-09-01T09:35:50.912123Z",
     "shell.execute_reply": "2025-09-01T09:35:50.911039Z",
     "shell.execute_reply.started": "2025-09-01T09:35:50.890099Z"
    }
   },
   "outputs": [
    {
     "data": {
      "text/html": [
       "<div>\n",
       "<style scoped>\n",
       "    .dataframe tbody tr th:only-of-type {\n",
       "        vertical-align: middle;\n",
       "    }\n",
       "\n",
       "    .dataframe tbody tr th {\n",
       "        vertical-align: top;\n",
       "    }\n",
       "\n",
       "    .dataframe thead th {\n",
       "        text-align: right;\n",
       "    }\n",
       "</style>\n",
       "<table border=\"1\" class=\"dataframe\">\n",
       "  <thead>\n",
       "    <tr style=\"text-align: right;\">\n",
       "      <th></th>\n",
       "      <th>0</th>\n",
       "    </tr>\n",
       "  </thead>\n",
       "  <tbody>\n",
       "    <tr>\n",
       "      <th>0</th>\n",
       "      <td>10921.98</td>\n",
       "    </tr>\n",
       "    <tr>\n",
       "      <th>1</th>\n",
       "      <td>10868.27</td>\n",
       "    </tr>\n",
       "    <tr>\n",
       "      <th>2</th>\n",
       "      <td>11054.52</td>\n",
       "    </tr>\n",
       "    <tr>\n",
       "      <th>3</th>\n",
       "      <td>10869.15</td>\n",
       "    </tr>\n",
       "    <tr>\n",
       "      <th>4</th>\n",
       "      <td>10495.00</td>\n",
       "    </tr>\n",
       "    <tr>\n",
       "      <th>...</th>\n",
       "      <td>...</td>\n",
       "    </tr>\n",
       "    <tr>\n",
       "      <th>1402</th>\n",
       "      <td>69918.00</td>\n",
       "    </tr>\n",
       "    <tr>\n",
       "      <th>1403</th>\n",
       "      <td>69956.00</td>\n",
       "    </tr>\n",
       "    <tr>\n",
       "      <th>1404</th>\n",
       "      <td>72331.00</td>\n",
       "    </tr>\n",
       "    <tr>\n",
       "      <th>1405</th>\n",
       "      <td>72346.00</td>\n",
       "    </tr>\n",
       "    <tr>\n",
       "      <th>1406</th>\n",
       "      <td>69490.00</td>\n",
       "    </tr>\n",
       "  </tbody>\n",
       "</table>\n",
       "<p>1507 rows × 1 columns</p>\n",
       "</div>"
      ],
      "text/plain": [
       "             0\n",
       "0     10921.98\n",
       "1     10868.27\n",
       "2     11054.52\n",
       "3     10869.15\n",
       "4     10495.00\n",
       "...        ...\n",
       "1402  69918.00\n",
       "1403  69956.00\n",
       "1404  72331.00\n",
       "1405  72346.00\n",
       "1406  69490.00\n",
       "\n",
       "[1507 rows x 1 columns]"
      ]
     },
     "execution_count": 205,
     "metadata": {},
     "output_type": "execute_result"
    }
   ],
   "source": [
    "pd.concat([past_100_days, test_df])"
   ]
  },
  {
   "cell_type": "code",
   "execution_count": 207,
   "id": "UUapqTcVLOj-",
   "metadata": {
    "colab": {
     "base_uri": "https://localhost:8080/"
    },
    "execution": {
     "iopub.execute_input": "2025-09-01T09:36:21.942358Z",
     "iopub.status.busy": "2025-09-01T09:36:21.941637Z",
     "iopub.status.idle": "2025-09-01T09:36:21.950555Z",
     "shell.execute_reply": "2025-09-01T09:36:21.949310Z",
     "shell.execute_reply.started": "2025-09-01T09:36:21.942299Z"
    },
    "id": "UUapqTcVLOj-",
    "outputId": "0b06f215-d627-419d-8e78-461a857ccf4d"
   },
   "outputs": [],
   "source": [
    "final_df = pd.concat([past_100_days, test_df], ignore_index = True)"
   ]
  },
  {
   "cell_type": "code",
   "execution_count": 209,
   "id": "L5gFYc1hMRjS",
   "metadata": {
    "colab": {
     "base_uri": "https://localhost:8080/",
     "height": 206
    },
    "execution": {
     "iopub.execute_input": "2025-09-01T09:36:24.308038Z",
     "iopub.status.busy": "2025-09-01T09:36:24.307445Z",
     "iopub.status.idle": "2025-09-01T09:36:24.321618Z",
     "shell.execute_reply": "2025-09-01T09:36:24.320589Z",
     "shell.execute_reply.started": "2025-09-01T09:36:24.307990Z"
    },
    "id": "L5gFYc1hMRjS",
    "outputId": "200e81cd-e7d8-4d77-d727-6d5918b2e074"
   },
   "outputs": [
    {
     "data": {
      "text/html": [
       "<div>\n",
       "<style scoped>\n",
       "    .dataframe tbody tr th:only-of-type {\n",
       "        vertical-align: middle;\n",
       "    }\n",
       "\n",
       "    .dataframe tbody tr th {\n",
       "        vertical-align: top;\n",
       "    }\n",
       "\n",
       "    .dataframe thead th {\n",
       "        text-align: right;\n",
       "    }\n",
       "</style>\n",
       "<table border=\"1\" class=\"dataframe\">\n",
       "  <thead>\n",
       "    <tr style=\"text-align: right;\">\n",
       "      <th></th>\n",
       "      <th>0</th>\n",
       "    </tr>\n",
       "  </thead>\n",
       "  <tbody>\n",
       "    <tr>\n",
       "      <th>0</th>\n",
       "      <td>10921.98</td>\n",
       "    </tr>\n",
       "    <tr>\n",
       "      <th>1</th>\n",
       "      <td>10868.27</td>\n",
       "    </tr>\n",
       "    <tr>\n",
       "      <th>2</th>\n",
       "      <td>11054.52</td>\n",
       "    </tr>\n",
       "    <tr>\n",
       "      <th>3</th>\n",
       "      <td>10869.15</td>\n",
       "    </tr>\n",
       "    <tr>\n",
       "      <th>4</th>\n",
       "      <td>10495.00</td>\n",
       "    </tr>\n",
       "  </tbody>\n",
       "</table>\n",
       "</div>"
      ],
      "text/plain": [
       "          0\n",
       "0  10921.98\n",
       "1  10868.27\n",
       "2  11054.52\n",
       "3  10869.15\n",
       "4  10495.00"
      ]
     },
     "execution_count": 209,
     "metadata": {},
     "output_type": "execute_result"
    }
   ],
   "source": [
    "final_df.head()"
   ]
  },
  {
   "cell_type": "code",
   "execution_count": 277,
   "id": "BU7BPmzvMZpZ",
   "metadata": {
    "colab": {
     "base_uri": "https://localhost:8080/"
    },
    "execution": {
     "iopub.execute_input": "2025-09-01T10:11:46.839430Z",
     "iopub.status.busy": "2025-09-01T10:11:46.838292Z",
     "iopub.status.idle": "2025-09-01T10:11:46.853844Z",
     "shell.execute_reply": "2025-09-01T10:11:46.852840Z",
     "shell.execute_reply.started": "2025-09-01T10:11:46.839355Z"
    },
    "id": "BU7BPmzvMZpZ",
    "outputId": "385dad96-22ef-4fe8-8aea-0a5ce1a7f6a6"
   },
   "outputs": [
    {
     "data": {
      "text/plain": [
       "array([[0.44857011],\n",
       "       [0.44636334],\n",
       "       [0.45401577],\n",
       "       ...,\n",
       "       [2.97167512],\n",
       "       [2.97229142],\n",
       "       [2.85494729]])"
      ]
     },
     "execution_count": 277,
     "metadata": {},
     "output_type": "execute_result"
    }
   ],
   "source": [
    "# Wrong! Should NOT fit the scaler by input data\n",
    "#input_data = scaler.fit_transform(final_df)\n",
    "\n",
    "# correct version:\n",
    "input_data = scaler.transform(final_df)\n",
    "input_data"
   ]
  },
  {
   "cell_type": "code",
   "execution_count": 279,
   "id": "2E6k84TtMpvD",
   "metadata": {
    "colab": {
     "base_uri": "https://localhost:8080/"
    },
    "execution": {
     "iopub.execute_input": "2025-09-01T10:11:52.973941Z",
     "iopub.status.busy": "2025-09-01T10:11:52.973137Z",
     "iopub.status.idle": "2025-09-01T10:11:52.982060Z",
     "shell.execute_reply": "2025-09-01T10:11:52.980805Z",
     "shell.execute_reply.started": "2025-09-01T10:11:52.973874Z"
    },
    "id": "2E6k84TtMpvD",
    "outputId": "06c0a3bb-bb78-49f3-d233-4ef1922d7a30"
   },
   "outputs": [
    {
     "data": {
      "text/plain": [
       "(1507, 1)"
      ]
     },
     "execution_count": 279,
     "metadata": {},
     "output_type": "execute_result"
    }
   ],
   "source": [
    "input_data.shape"
   ]
  },
  {
   "cell_type": "markdown",
   "id": "hJzkNc_To9li",
   "metadata": {
    "id": "hJzkNc_To9li"
   },
   "source": [
    "# Testing the model\n",
    "\n",
    "---\n",
    "\n"
   ]
  },
  {
   "cell_type": "code",
   "execution_count": 282,
   "id": "d9xCof1CMwwh",
   "metadata": {
    "execution": {
     "iopub.execute_input": "2025-09-01T10:11:53.986044Z",
     "iopub.status.busy": "2025-09-01T10:11:53.984959Z",
     "iopub.status.idle": "2025-09-01T10:11:54.002740Z",
     "shell.execute_reply": "2025-09-01T10:11:54.000260Z",
     "shell.execute_reply.started": "2025-09-01T10:11:53.985973Z"
    },
    "id": "d9xCof1CMwwh"
   },
   "outputs": [],
   "source": [
    "x_test = []\n",
    "y_test = []\n",
    "for i in range(100, input_data.shape[0]):\n",
    "   x_test.append(input_data[i-100: i])\n",
    "   y_test.append(input_data[i, 0])"
   ]
  },
  {
   "cell_type": "code",
   "execution_count": 284,
   "id": "6MGDYZvrNUYc",
   "metadata": {
    "colab": {
     "base_uri": "https://localhost:8080/"
    },
    "execution": {
     "iopub.execute_input": "2025-09-01T10:11:54.556637Z",
     "iopub.status.busy": "2025-09-01T10:11:54.555516Z",
     "iopub.status.idle": "2025-09-01T10:11:54.573694Z",
     "shell.execute_reply": "2025-09-01T10:11:54.572764Z",
     "shell.execute_reply.started": "2025-09-01T10:11:54.556565Z"
    },
    "id": "6MGDYZvrNUYc",
    "outputId": "4c699113-12cb-4065-b162-29e1761b96a4"
   },
   "outputs": [
    {
     "name": "stdout",
     "output_type": "stream",
     "text": [
      "(1407, 100, 1)\n",
      "(1407,)\n"
     ]
    }
   ],
   "source": [
    "x_test, y_test = np.array(x_test), np.array(y_test)\n",
    "print(x_test.shape)\n",
    "print(y_test.shape)"
   ]
  },
  {
   "cell_type": "markdown",
   "id": "PjvHSsrYpFBG",
   "metadata": {
    "id": "PjvHSsrYpFBG"
   },
   "source": [
    "# Making prediction and plotting the graph of predicted vs actual values\n",
    "\n",
    "---\n",
    "\n"
   ]
  },
  {
   "cell_type": "code",
   "execution_count": 287,
   "id": "GLMExu7NNdmA",
   "metadata": {
    "colab": {
     "base_uri": "https://localhost:8080/"
    },
    "execution": {
     "iopub.execute_input": "2025-09-01T10:11:56.184524Z",
     "iopub.status.busy": "2025-09-01T10:11:56.183743Z",
     "iopub.status.idle": "2025-09-01T10:11:58.065629Z",
     "shell.execute_reply": "2025-09-01T10:11:58.065333Z",
     "shell.execute_reply.started": "2025-09-01T10:11:56.184480Z"
    },
    "id": "GLMExu7NNdmA",
    "outputId": "e415e6ce-3846-4044-e1a3-a1f7b17e10e0"
   },
   "outputs": [
    {
     "name": "stdout",
     "output_type": "stream",
     "text": [
      "\u001b[1m44/44\u001b[0m \u001b[32m━━━━━━━━━━━━━━━━━━━━\u001b[0m\u001b[37m\u001b[0m \u001b[1m2s\u001b[0m 41ms/step\n"
     ]
    }
   ],
   "source": [
    "# Making predictions\n",
    "\n",
    "y_pred = model.predict(x_test)"
   ]
  },
  {
   "cell_type": "code",
   "execution_count": 289,
   "id": "wAmVS__yNu-A",
   "metadata": {
    "colab": {
     "base_uri": "https://localhost:8080/"
    },
    "execution": {
     "iopub.execute_input": "2025-09-01T10:11:58.531280Z",
     "iopub.status.busy": "2025-09-01T10:11:58.530469Z",
     "iopub.status.idle": "2025-09-01T10:11:58.543812Z",
     "shell.execute_reply": "2025-09-01T10:11:58.542284Z",
     "shell.execute_reply.started": "2025-09-01T10:11:58.531238Z"
    },
    "id": "wAmVS__yNu-A",
    "outputId": "a7d117ba-f92d-4be6-d813-47147ab5cd1c"
   },
   "outputs": [
    {
     "data": {
      "text/plain": [
       "(1407, 1)"
      ]
     },
     "execution_count": 289,
     "metadata": {},
     "output_type": "execute_result"
    }
   ],
   "source": [
    "y_pred.shape"
   ]
  },
  {
   "cell_type": "code",
   "execution_count": 291,
   "id": "HFhTH-1aNyqt",
   "metadata": {
    "colab": {
     "base_uri": "https://localhost:8080/"
    },
    "execution": {
     "iopub.execute_input": "2025-09-01T10:12:00.321843Z",
     "iopub.status.busy": "2025-09-01T10:12:00.320531Z",
     "iopub.status.idle": "2025-09-01T10:12:00.335410Z",
     "shell.execute_reply": "2025-09-01T10:12:00.334086Z",
     "shell.execute_reply.started": "2025-09-01T10:12:00.321767Z"
    },
    "id": "HFhTH-1aNyqt",
    "outputId": "0e288060-20c6-46e6-bae7-93bb208f67ec"
   },
   "outputs": [
    {
     "data": {
      "text/plain": [
       "array([1.05248931, 1.1095594 , 1.10879559, ..., 2.97167512, 2.97229142,\n",
       "       2.85494729])"
      ]
     },
     "execution_count": 291,
     "metadata": {},
     "output_type": "execute_result"
    }
   ],
   "source": [
    "y_test"
   ]
  },
  {
   "cell_type": "code",
   "execution_count": 293,
   "id": "WDIHSvbHN1vk",
   "metadata": {
    "colab": {
     "base_uri": "https://localhost:8080/"
    },
    "execution": {
     "iopub.execute_input": "2025-09-01T10:12:01.792237Z",
     "iopub.status.busy": "2025-09-01T10:12:01.791440Z",
     "iopub.status.idle": "2025-09-01T10:12:01.803756Z",
     "shell.execute_reply": "2025-09-01T10:12:01.802827Z",
     "shell.execute_reply.started": "2025-09-01T10:12:01.792193Z"
    },
    "id": "WDIHSvbHN1vk",
    "outputId": "7f0459a8-b46e-4383-bd33-1af9f49a0211",
    "scrolled": true
   },
   "outputs": [
    {
     "data": {
      "text/plain": [
       "array([[0.88614905],\n",
       "       [0.91431075],\n",
       "       [0.9474212 ],\n",
       "       ...,\n",
       "       [1.7659113 ],\n",
       "       [1.2743025 ],\n",
       "       [1.8155321 ]], dtype=float32)"
      ]
     },
     "execution_count": 293,
     "metadata": {},
     "output_type": "execute_result"
    }
   ],
   "source": [
    "y_pred"
   ]
  },
  {
   "cell_type": "code",
   "execution_count": 295,
   "id": "QMFgAgL5N6HX",
   "metadata": {
    "colab": {
     "base_uri": "https://localhost:8080/"
    },
    "execution": {
     "iopub.execute_input": "2025-09-01T10:12:06.155639Z",
     "iopub.status.busy": "2025-09-01T10:12:06.154471Z",
     "iopub.status.idle": "2025-09-01T10:12:06.168687Z",
     "shell.execute_reply": "2025-09-01T10:12:06.167134Z",
     "shell.execute_reply.started": "2025-09-01T10:12:06.155568Z"
    },
    "id": "QMFgAgL5N6HX",
    "outputId": "ea7365cc-518f-4580-d114-1804855d66a4"
   },
   "outputs": [
    {
     "data": {
      "text/plain": [
       "array([4.10868794e-05])"
      ]
     },
     "execution_count": 295,
     "metadata": {},
     "output_type": "execute_result"
    }
   ],
   "source": [
    "scaler.scale_"
   ]
  },
  {
   "cell_type": "code",
   "execution_count": 297,
   "id": "tPcp9BKLN-Y8",
   "metadata": {
    "execution": {
     "iopub.execute_input": "2025-09-01T10:12:08.693518Z",
     "iopub.status.busy": "2025-09-01T10:12:08.692711Z",
     "iopub.status.idle": "2025-09-01T10:12:08.703325Z",
     "shell.execute_reply": "2025-09-01T10:12:08.701716Z",
     "shell.execute_reply.started": "2025-09-01T10:12:08.693475Z"
    },
    "id": "tPcp9BKLN-Y8"
   },
   "outputs": [],
   "source": [
    "scale_factor = 1/0.00041967\n",
    "y_pred = y_pred * scale_factor\n",
    "y_test = y_test * scale_factor"
   ]
  },
  {
   "cell_type": "code",
   "execution_count": 299,
   "id": "phumyMZUOPp_",
   "metadata": {
    "colab": {
     "base_uri": "https://localhost:8080/",
     "height": 542
    },
    "execution": {
     "iopub.execute_input": "2025-09-01T10:12:09.416387Z",
     "iopub.status.busy": "2025-09-01T10:12:09.415521Z",
     "iopub.status.idle": "2025-09-01T10:12:09.526502Z",
     "shell.execute_reply": "2025-09-01T10:12:09.526086Z",
     "shell.execute_reply.started": "2025-09-01T10:12:09.416339Z"
    },
    "id": "phumyMZUOPp_",
    "outputId": "eba0f77b-fe47-431e-cbf8-49a103e127ab"
   },
   "outputs": [
    {
     "data": {
      "image/png": "[encoded data removed]",
      "text/plain": [
       "<Figure size 1200x600 with 1 Axes>"
      ]
     },
     "metadata": {},
     "output_type": "display_data"
    }
   ],
   "source": [
    "plt.figure(figsize = (12,6))\n",
    "plt.plot(y_test, 'b', label = \"Original Price\")\n",
    "plt.plot(y_pred, 'r', label = \"Predicted Price\")\n",
    "plt.xlabel('Time')\n",
    "plt.ylabel('Price')\n",
    "plt.legend()\n",
    "plt.grid(True)\n",
    "plt.show()"
   ]
  },
  {
   "cell_type": "markdown",
   "id": "m54ljCJrpShP",
   "metadata": {
    "id": "m54ljCJrpShP"
   },
   "source": [
    "# Model evaluation"
   ]
  },
  {
   "cell_type": "markdown",
   "id": "BdnuOyYQRKRP",
   "metadata": {
    "id": "BdnuOyYQRKRP"
   },
   "source": [
    "Calculation of mean absolute error"
   ]
  },
  {
   "cell_type": "code",
   "execution_count": 312,
   "id": "Yx6JWOKcX3Yo",
   "metadata": {
    "colab": {
     "base_uri": "https://localhost:8080/"
    },
    "execution": {
     "iopub.execute_input": "2025-09-01T10:22:59.986308Z",
     "iopub.status.busy": "2025-09-01T10:22:59.983951Z",
     "iopub.status.idle": "2025-09-01T10:23:00.002715Z",
     "shell.execute_reply": "2025-09-01T10:23:00.002237Z",
     "shell.execute_reply.started": "2025-09-01T10:22:59.986213Z"
    },
    "id": "Yx6JWOKcX3Yo",
    "outputId": "74caad7d-81e9-4866-c771-3e6beccb39d8"
   },
   "outputs": [
    {
     "name": "stdout",
     "output_type": "stream",
     "text": [
      "Mean absolute error on test set: 27.96%\n"
     ]
    }
   ],
   "source": [
    "from sklearn.metrics import mean_absolute_error\n",
    "\n",
    "mae = mean_absolute_error(y_test, y_pred)\n",
    "mae_percentage = (mae / np.mean(y_test)) * 100\n",
    "print(\"Mean absolute error on test set: {:.2f}%\".format(mae_percentage))"
   ]
  },
  {
   "cell_type": "markdown",
   "id": "M8XnY8cuQIc2",
   "metadata": {
    "id": "M8XnY8cuQIc2"
   },
   "source": [
    "Calculation of R2 score"
   ]
  },
  {
   "cell_type": "code",
   "execution_count": 315,
   "id": "GAAyLdoMNTwZ",
   "metadata": {
    "colab": {
     "base_uri": "https://localhost:8080/"
    },
    "execution": {
     "iopub.execute_input": "2025-09-01T10:23:01.752467Z",
     "iopub.status.busy": "2025-09-01T10:23:01.751341Z",
     "iopub.status.idle": "2025-09-01T10:23:01.767510Z",
     "shell.execute_reply": "2025-09-01T10:23:01.766495Z",
     "shell.execute_reply.started": "2025-09-01T10:23:01.752394Z"
    },
    "id": "GAAyLdoMNTwZ",
    "outputId": "58c4c588-24d4-49bf-83ac-5a615a631c2e"
   },
   "outputs": [
    {
     "name": "stdout",
     "output_type": "stream",
     "text": [
      "R2 score: 0.1075875650457856\n"
     ]
    }
   ],
   "source": [
    "from sklearn.metrics import r2_score\n",
    "\n",
    "# Actual values\n",
    "actual = y_test\n",
    "\n",
    "# Predicted values\n",
    "predicted = y_pred\n",
    "\n",
    "# Calculate the R2 score\n",
    "r2 = r2_score(actual, predicted)\n",
    "\n",
    "print(\"R2 score:\", r2)"
   ]
  },
  {
   "cell_type": "code",
   "execution_count": 317,
   "id": "vQGgW50tNtMf",
   "metadata": {
    "colab": {
     "base_uri": "https://localhost:8080/",
     "height": 472
    },
    "execution": {
     "iopub.execute_input": "2025-09-01T10:23:02.275984Z",
     "iopub.status.busy": "2025-09-01T10:23:02.274850Z",
     "iopub.status.idle": "2025-09-01T10:23:02.349200Z",
     "shell.execute_reply": "2025-09-01T10:23:02.348831Z",
     "shell.execute_reply.started": "2025-09-01T10:23:02.275908Z"
    },
    "id": "vQGgW50tNtMf",
    "outputId": "94767ec4-b582-409b-ea5d-2d5659997e8c"
   },
   "outputs": [
    {
     "data": {
      "image/png": "[encoded data removed]",
      "text/plain": [
       "<Figure size 640x480 with 1 Axes>"
      ]
     },
     "metadata": {},
     "output_type": "display_data"
    }
   ],
   "source": [
    "# Plotting the R2 score\n",
    "fig, ax = plt.subplots()\n",
    "ax.barh(0, r2, color='skyblue')\n",
    "ax.set_xlim([-1, 1])\n",
    "ax.set_yticks([])\n",
    "ax.set_xlabel('R2 Score')\n",
    "ax.set_title('R2 Score')\n",
    "\n",
    "# Adding the R2 score value on the bar\n",
    "ax.text(r2, 0, f'{r2:.2f}', va='center', color='black')\n",
    "\n",
    "plt.show()"
   ]
  },
  {
   "cell_type": "code",
   "execution_count": 319,
   "id": "Q8RHQ80hPfi4",
   "metadata": {
    "colab": {
     "base_uri": "https://localhost:8080/",
     "height": 472
    },
    "execution": {
     "iopub.execute_input": "2025-09-01T10:23:02.966429Z",
     "iopub.status.busy": "2025-09-01T10:23:02.965269Z",
     "iopub.status.idle": "2025-09-01T10:23:03.062218Z",
     "shell.execute_reply": "2025-09-01T10:23:03.061888Z",
     "shell.execute_reply.started": "2025-09-01T10:23:02.966358Z"
    },
    "id": "Q8RHQ80hPfi4",
    "outputId": "a1b81f5b-e56b-4f29-886c-e53f7e6f2bcb"
   },
   "outputs": [
    {
     "data": {
      "image/png": "[encoded data removed]",
      "text/plain": [
       "<Figure size 640x480 with 1 Axes>"
      ]
     },
     "metadata": {},
     "output_type": "display_data"
    }
   ],
   "source": [
    "plt.scatter(actual, predicted)\n",
    "plt.plot([min(actual), max(actual)], [min(predicted), max(predicted)], 'r--')\n",
    "plt.xlabel('Actual Values')\n",
    "plt.ylabel('Predicted Values')\n",
    "plt.title(f'R2 Score: {r2:.2f}')\n",
    "plt.show()"
   ]
  },
  {
   "cell_type": "code",
   "execution_count": null,
   "id": "50c93e0b-560d-4e3b-a4f3-5b50139e40a3",
   "metadata": {},
   "outputs": [],
   "source": []
  },
  {
   "cell_type": "code",
   "execution_count": null,
   "id": "afa0393b-8f1c-4a4a-b9cd-a7d4e3f2f012",
   "metadata": {},
   "outputs": [],
   "source": []
  }
 ],
 "metadata": {
  "accelerator": "GPU",
  "colab": {
   "include_colab_link": true,
   "provenance": []
  },
  "gpuClass": "standard",
  "kernelspec": {
   "display_name": "algo_trading",
   "language": "python",
   "name": "algo_trading"
  },
  "language_info": {
   "codemirror_mode": {
    "name": "ipython",
    "version": 3
   },
   "file_extension": ".py",
   "mimetype": "text/x-python",
   "name": "python",
   "nbconvert_exporter": "python",
   "pygments_lexer": "ipython3",
   "version": "3.10.13"
  }
 },
 "nbformat": 4,
 "nbformat_minor": 5
}
